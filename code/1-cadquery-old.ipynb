{
 "cells": [
  {
   "cell_type": "markdown",
   "metadata": {},
   "source": [
    "# Intro"
   ]
  },
  {
   "cell_type": "code",
   "execution_count": null,
   "metadata": {},
   "outputs": [],
   "source": [
    "import cadquery as cq\n",
    "from jupyter_cadquery.cadquery import show, PartGroup, Part\n",
    "from jupyter_cadquery import set_defaults, set_sidecar\n",
    "\n",
    "set_defaults(axes=True, axes0=True, grid=True)"
   ]
  },
  {
   "cell_type": "code",
   "execution_count": null,
   "metadata": {},
   "outputs": [],
   "source": [
    "box = cq.Workplane('XY').box(10, 20, 30).edges(\">X or <X\").fillet(2)\n",
    "d = show(box)"
   ]
  },
  {
   "cell_type": "markdown",
   "metadata": {},
   "source": [
    "# Assemblies"
   ]
  },
  {
   "cell_type": "code",
   "execution_count": null,
   "metadata": {},
   "outputs": [],
   "source": [
    "import cadquery as cq\n",
    "from jupyter_cadquery.cadquery import (PartGroup, Part, Edges, Faces, Vertices, show, \n",
    "                                       replay, enable_replay, disable_replay, reset_replay)\n",
    "from jupyter_cadquery import set_sidecar\n",
    "\n",
    "set_sidecar(\"CadQuery\", init=True)"
   ]
  },
  {
   "cell_type": "code",
   "execution_count": null,
   "metadata": {},
   "outputs": [],
   "source": [
    "enable_replay(warning=False)  # False disables the repeated warning about replay being enabled!"
   ]
  },
  {
   "cell_type": "code",
   "execution_count": null,
   "metadata": {},
   "outputs": [],
   "source": [
    "box1 = cq.Workplane('XY').box(10, 20, 30).edges(\">X or <X\").chamfer(2)\n",
    "box1.name = \"box1\"\n",
    "\n",
    "box2 = cq.Workplane('XY').box(8, 18, 28).edges(\">X or <X\").chamfer(2)\n",
    "box2.name = \"box2\"\n",
    "\n",
    "box3 = cq.Workplane('XY').transformed(offset=(0, 15, 7))\\\n",
    "    .box(30, 20, 6).edges(\">Z\").fillet(3)\n",
    "box3.name = \"box3\"\n",
    "\n",
    "box4 = box3.mirror(\"XY\").translate((0, -5, 0))\n",
    "box4.name = \"box4\"\n",
    "\n",
    "box1 = box1\\\n",
    "    .cut(box2)\\\n",
    "    .cut(box3)\\\n",
    "    .cut(box4)"
   ]
  },
  {
   "cell_type": "code",
   "execution_count": null,
   "metadata": {},
   "outputs": [],
   "source": [
    "%%time\n",
    "a1 = PartGroup(\n",
    "    [\n",
    "        Part(box1, \"red box\",   \"#d7191c\", show_edges=False),\n",
    "        Part(box3, \"green box\", \"#abdda4\", show_edges=False),\n",
    "        Part(box4, \"blue box\",  \"#2b83ba\", show_faces=False),\n",
    "    ],\n",
    "    \"example 1\"\n",
    ")\n",
    "d = show(a1, axes=True, grid=True, ortho=False, axes0=True)"
   ]
  },
  {
   "cell_type": "markdown",
   "metadata": {},
   "source": [
    "# Faces, Edges, Vertices"
   ]
  },
  {
   "cell_type": "code",
   "execution_count": null,
   "metadata": {},
   "outputs": [],
   "source": [
    "box1"
   ]
  },
  {
   "cell_type": "code",
   "execution_count": null,
   "metadata": {},
   "outputs": [],
   "source": [
    "box1.faces(\"not(|Z or |X or |Y)\")"
   ]
  },
  {
   "cell_type": "code",
   "execution_count": null,
   "metadata": {},
   "outputs": [],
   "source": [
    "box1.edges(\"not(|X or |Y or |Z)\")\n"
   ]
  },
  {
   "cell_type": "code",
   "execution_count": null,
   "metadata": {},
   "outputs": [],
   "source": [
    "box1.vertices()"
   ]
  },
  {
   "cell_type": "markdown",
   "metadata": {},
   "source": [
    "# CadQuery Asssemblies"
   ]
  },
  {
   "cell_type": "code",
   "execution_count": null,
   "metadata": {},
   "outputs": [],
   "source": [
    "from cadquery import Assembly"
   ]
  },
  {
   "cell_type": "code",
   "execution_count": null,
   "metadata": {},
   "outputs": [],
   "source": [
    "a = (\n",
    "    Assembly(box1, name=\"box1\")\n",
    "    .add(box2, name=\"box2\")\n",
    "    .add(box3, name=\"box3\")\n",
    ")\n",
    "show(a)"
   ]
  },
  {
   "cell_type": "code",
   "execution_count": null,
   "metadata": {},
   "outputs": [],
   "source": [
    "a = (\n",
    "    Assembly(name=\"ensemble\")\n",
    "    .add(box1, name=\"box1\")\n",
    "    .add(box2, name=\"box2\")\n",
    "    .add(box3, name=\"box3\")\n",
    ")\n",
    "show(a)"
   ]
  },
  {
   "cell_type": "markdown",
   "metadata": {},
   "source": [
    "# Replay"
   ]
  },
  {
   "cell_type": "code",
   "execution_count": null,
   "metadata": {},
   "outputs": [],
   "source": [
    "r = replay(box1)"
   ]
  },
  {
   "cell_type": "markdown",
   "metadata": {},
   "source": [
    "# Export to HTML"
   ]
  },
  {
   "cell_type": "code",
   "execution_count": null,
   "metadata": {},
   "outputs": [],
   "source": [
    "from ipywidgets.embed import embed_minimal_html, dependency_state\n",
    "embed_minimal_html(\n",
    "    'export.html', \n",
    "    title='Box', \n",
    "    views=[d.cq_view.renderer], \n",
    "    state=dependency_state(d.cq_view.renderer))"
   ]
  },
  {
   "cell_type": "code",
   "execution_count": null,
   "metadata": {},
   "outputs": [],
   "source": []
  }
 ],
 "metadata": {
  "language_info": {
   "name": "python",
   "pygments_lexer": "ipython3"
  },
  "kernelspec": {
   "display_name": "Python 3",
   "language": "python",
   "name": "python3"
  }
 },
 "nbformat": 4,
 "nbformat_minor": 4
}

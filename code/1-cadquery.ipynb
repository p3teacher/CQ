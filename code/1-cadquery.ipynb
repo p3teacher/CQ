{
 "cells": [
  {
   "cell_type": "markdown",
   "metadata": {},
   "source": [
    "# Intro"
   ]
  },
  {
   "cell_type": "code",
   "execution_count": 1,
   "metadata": {},
   "outputs": [
    {
     "name": "stdout",
     "output_type": "stream",
     "text": [
      "Overwriting auto display for cadquery Workplane and Shape\n"
     ]
    }
   ],
   "source": [
    "import cadquery as cq\n",
    "from jupyter_cadquery.cadquery import show, PartGroup, Part\n",
    "from jupyter_cadquery import set_defaults, set_sidecar\n",
    "\n",
    "set_defaults(axes=True, axes0=True, grid=True)"
   ]
  },
  {
   "cell_type": "code",
   "execution_count": 2,
   "metadata": {},
   "outputs": [
    {
     "data": {
      "application/vnd.jupyter.widget-view+json": {
       "model_id": "2e63170b4027463cbdce66d253172378",
       "version_major": 2,
       "version_minor": 0
      },
      "text/plain": [
       "HBox(children=(VBox(children=(HBox(children=(Checkbox(value=True, description='Axes', indent=False, _dom_class…"
      ]
     },
     "metadata": {},
     "output_type": "display_data"
    },
    {
     "data": {
      "text/html": [
       "<style>\n",
       ".scroll-area {\n",
       "    overflow: scroll !important;\n",
       "    border: unset !important;\n",
       "}\n",
       "\n",
       ".mac-scrollbar::-webkit-scrollbar {\n",
       "    width: 5px !important;\n",
       "    height: 5px !important;\n",
       "}\n",
       "\n",
       ".mac-scrollbar::-webkit-scrollbar-track {\n",
       "    background-color: transparent !important;\n",
       "}\n",
       "\n",
       ".mac-scrollbar .widget-html-content {\n",
       "    overflow-x: visible;\n",
       "    overflow-y: visible;\n",
       "}\n",
       "\n",
       ".tab-content-no-padding .widget-tab-contents {\n",
       "    overflow-x: visible !important;\n",
       "    overflow-y: visible !important;\n",
       "    padding-bottom: 0px !important;\n",
       "}\n",
       "\n",
       ".view_renderer {\n",
       "    border: 1px solid var(--jp-border-color1);\n",
       "    margin-top: 3px;\n",
       "    margin-left: 2px;\n",
       "}\n",
       "\n",
       ".view_tree {\n",
       "    padding: 0px !important;\n",
       "}\n",
       "\n",
       ".view_axes {\n",
       "    width: 60px !important;\n",
       "    margin-left: 5px !important;\n",
       "}\n",
       "\n",
       ".view_zero {\n",
       "    width: 55px !important;\n",
       "}\n",
       "\n",
       ".view_grid {\n",
       "    width: 56px !important;\n",
       "}\n",
       "\n",
       ".view_ortho {\n",
       "    width: 64px !important;\n",
       "}\n",
       "\n",
       ".view_transparent {\n",
       "    width: 125px !important;\n",
       "}\n",
       "\n",
       ".view_black_edges {\n",
       "    width: 105px !important;\n",
       "}\n",
       "\n",
       ".view_button {\n",
       "    padding: 0px !important;\n",
       "}\n",
       "\n",
       ".view_button>img {\n",
       "    height: 28px;\n",
       "    width: 36px;\n",
       "}\n",
       "\n",
       ".node_entry_wrap {\n",
       "    white-space: pre;\n",
       "}\n",
       "\n",
       ".node_entry {\n",
       "    white-space: nowrap;\n",
       "    padding-top: 4px;\n",
       "}\n",
       "\n",
       ".t-caret {\n",
       "    cursor: pointer;\n",
       "    -webkit-user-select: none;\n",
       "    /* Safari 3.1+ */\n",
       "    -moz-user-select: none;\n",
       "    /* Firefox 2+ */\n",
       "    -ms-user-select: none;\n",
       "    /* IE 10+ */\n",
       "    user-select: none;\n",
       "}\n",
       "\n",
       ".t-caret-down::before {\n",
       "    -ms-transform: rotate(90deg);\n",
       "    /* IE 9 */\n",
       "    -webkit-transform: rotate(90deg);\n",
       "    /* Safari */\n",
       "    transform: rotate(90deg);\n",
       "}\n",
       "\n",
       ".toplevel {\n",
       "    list-style-type: none;\n",
       "    padding-inline-start: 0px;\n",
       "}\n",
       "\n",
       ".nested {\n",
       "    display: none;\n",
       "    list-style-type: none;\n",
       "    padding-inline-start: 16px;\n",
       "}\n",
       "\n",
       ".active {\n",
       "    display: block;\n",
       "}\n",
       "\n",
       ".icon {\n",
       "    width: 28px !important;\n",
       "    height: 22px !important;\n",
       "    padding-right: 2px;\n",
       "    vertical-align: middle;\n",
       "}\n",
       "\n",
       ".indent {\n",
       "    margin-left: 12px;\n",
       "}\n",
       "\n",
       ".tree_label {\n",
       "    padding-left: 2px;\n",
       "    font-size: 14px;\n",
       "}\n",
       "\n",
       ".scroll_down {\n",
       "    display: flex;\n",
       "    flex-direction: column-reverse;\n",
       "}\n",
       "\n",
       ".small_table {\n",
       "    line-height: 14px;\n",
       "}\n",
       "\n",
       ".monospace select {\n",
       "    font-family: monospace;\n",
       "}\n",
       "\n",
       "        .t-caret::before {\n",
       "            content: u\"▶\";\n",
       "            font-size: 12px;\n",
       "            color: \"#080808\";\n",
       "            display: inline-block;\n",
       "            margin-right: 2px;\n",
       "        }\n",
       "\n",
       "        .mac-scrollbar::-webkit-scrollbar-thumb {\n",
       "            background-color: rgba(0, 0, 0, 0.2) !important;\n",
       "            border-radius: 100px !important;\n",
       "        }\n",
       "\n",
       "        .mac-scrollbar::-webkit-scrollbar-thumb:hover {\n",
       "            background: rgba(0, 0, 0, 0.4) !important;\n",
       "        }\n",
       "\n",
       "        .mac-scrollbar::-webkit-scrollbar-thumb:active {\n",
       "            background: #181818 !important;\n",
       "        }\n",
       "\n",
       "        .mac-scrollbar::-webkit-scrollbar-corner {\n",
       "            background: white;\n",
       "        }\n",
       "\n",
       "        .view_output {\n",
       "            border: 1px solid var(--jp-border-color1);\n",
       "            margin: 2px 2px 2px 2px !important;\n",
       "            padding-right: 1px !important;\n",
       "            background-color: white;\n",
       "        }\n",
       "    </style>"
      ],
      "text/plain": [
       "<IPython.core.display.HTML object>"
      ]
     },
     "metadata": {},
     "output_type": "display_data"
    }
   ],
   "source": [
    "box = cq.Workplane('XY').box(10, 20, 30).edges(\">X or <X\").fillet(2)\n",
    "d = show(box)"
   ]
  },
  {
   "cell_type": "markdown",
   "metadata": {},
   "source": [
    "# Assemblies"
   ]
  },
  {
   "cell_type": "code",
   "execution_count": 3,
   "metadata": {},
   "outputs": [],
   "source": [
    "import cadquery as cq\n",
    "from jupyter_cadquery.cadquery import (PartGroup, Part, Edges, Faces, Vertices, show, \n",
    "                                       replay, enable_replay, disable_replay, reset_replay)\n",
    "from jupyter_cadquery import set_sidecar\n",
    "\n",
    "# set_sidecar(\"CadQuery\", init=True)"
   ]
  },
  {
   "cell_type": "code",
   "execution_count": 4,
   "metadata": {},
   "outputs": [
    {
     "name": "stdout",
     "output_type": "stream",
     "text": [
      "\n",
      "Enabling jupyter_cadquery replay\n"
     ]
    }
   ],
   "source": [
    "enable_replay(warning=False)  # False disables the repeated warning about replay being enabled!"
   ]
  },
  {
   "cell_type": "code",
   "execution_count": 5,
   "metadata": {},
   "outputs": [],
   "source": [
    "box1 = cq.Workplane('XY').box(10, 20, 30).edges(\">X or <X\").chamfer(2)\n",
    "box1.name = \"box1\"\n",
    "\n",
    "box2 = cq.Workplane('XY').box(8, 18, 28).edges(\">X or <X\").chamfer(2)\n",
    "box2.name = \"box2\"\n",
    "\n",
    "box3 = cq.Workplane('XY').transformed(offset=(0, 15, 7))\\\n",
    "    .box(30, 20, 6).edges(\">Z\").fillet(3)\n",
    "box3.name = \"box3\"\n",
    "\n",
    "box4 = box3.mirror(\"XY\").translate((0, -5, 0))\n",
    "box4.name = \"box4\"\n",
    "\n",
    "box1 = box1\\\n",
    "    .cut(box2)\\\n",
    "    .cut(box3)\\\n",
    "    .cut(box4)"
   ]
  },
  {
   "cell_type": "code",
   "execution_count": 6,
   "metadata": {},
   "outputs": [
    {
     "data": {
      "application/vnd.jupyter.widget-view+json": {
       "model_id": "7ef8fa58cd5d4e4baac68b2410c1f334",
       "version_major": 2,
       "version_minor": 0
      },
      "text/plain": [
       "HBox(children=(VBox(children=(HBox(children=(Checkbox(value=True, description='Axes', indent=False, _dom_class…"
      ]
     },
     "metadata": {},
     "output_type": "display_data"
    },
    {
     "name": "stdout",
     "output_type": "stream",
     "text": [
      "CPU times: user 559 ms, sys: 33.7 ms, total: 593 ms\n",
      "Wall time: 975 ms\n"
     ]
    }
   ],
   "source": [
    "%%time\n",
    "a1 = PartGroup(\n",
    "    [\n",
    "        Part(box1, \"red box\",   \"#d7191c\", show_edges=False),\n",
    "        Part(box3, \"green box\", \"#abdda4\", show_edges=False),\n",
    "        Part(box4, \"blue box\",  \"#2b83ba\", show_faces=False),\n",
    "    ],\n",
    "    \"example 1\"\n",
    ")\n",
    "d = show(a1, axes=True, grid=True, ortho=False, axes0=True)"
   ]
  },
  {
   "cell_type": "markdown",
   "metadata": {},
   "source": [
    "# Faces, Edges, Vertices"
   ]
  },
  {
   "cell_type": "code",
   "execution_count": null,
   "metadata": {},
   "outputs": [],
   "source": [
    "box1"
   ]
  },
  {
   "cell_type": "code",
   "execution_count": null,
   "metadata": {},
   "outputs": [],
   "source": [
    "box1.faces(\"not(|Z or |X or |Y)\")"
   ]
  },
  {
   "cell_type": "code",
   "execution_count": null,
   "metadata": {},
   "outputs": [],
   "source": [
    "box1.edges(\"not(|X or |Y or |Z)\")\n"
   ]
  },
  {
   "cell_type": "code",
   "execution_count": null,
   "metadata": {},
   "outputs": [],
   "source": [
    "box1.vertices()"
   ]
  },
  {
   "cell_type": "markdown",
   "metadata": {},
   "source": [
    "# CadQuery Asssemblies"
   ]
  },
  {
   "cell_type": "code",
   "execution_count": null,
   "metadata": {},
   "outputs": [],
   "source": [
    "from cadquery import Assembly"
   ]
  },
  {
   "cell_type": "code",
   "execution_count": null,
   "metadata": {},
   "outputs": [],
   "source": [
    "a = (\n",
    "    Assembly(box1, name=\"box1\")\n",
    "    .add(box2, name=\"box2\")\n",
    "    .add(box3, name=\"box3\")\n",
    ")\n",
    "show(a)"
   ]
  },
  {
   "cell_type": "code",
   "execution_count": null,
   "metadata": {},
   "outputs": [],
   "source": [
    "a = (\n",
    "    Assembly(name=\"ensemble\")\n",
    "    .add(box1, name=\"box1\")\n",
    "    .add(box2, name=\"box2\")\n",
    "    .add(box3, name=\"box3\")\n",
    ")\n",
    "show(a)"
   ]
  },
  {
   "cell_type": "markdown",
   "metadata": {},
   "source": [
    "# Replay"
   ]
  },
  {
   "cell_type": "code",
   "execution_count": null,
   "metadata": {},
   "outputs": [],
   "source": [
    "r = replay(box1)"
   ]
  },
  {
   "cell_type": "markdown",
   "metadata": {},
   "source": [
    "# Export to HTML"
   ]
  },
  {
   "cell_type": "code",
   "execution_count": null,
   "metadata": {},
   "outputs": [],
   "source": [
    "from ipywidgets.embed import embed_minimal_html, dependency_state\n",
    "embed_minimal_html(\n",
    "    'export.html', \n",
    "    title='Box', \n",
    "    views=[d.cq_view.renderer], \n",
    "    state=dependency_state(d.cq_view.renderer))"
   ]
  },
  {
   "cell_type": "code",
   "execution_count": null,
   "metadata": {},
   "outputs": [],
   "source": []
  }
 ],
 "metadata": {
  "kernelspec": {
   "display_name": "Python 3 (ipykernel)",
   "language": "python",
   "name": "python3"
  },
  "language_info": {
   "codemirror_mode": {
    "name": "ipython",
    "version": 3
   },
   "file_extension": ".py",
   "mimetype": "text/x-python",
   "name": "python",
   "nbconvert_exporter": "python",
   "pygments_lexer": "ipython3",
   "version": "3.8.12"
  }
 },
 "nbformat": 4,
 "nbformat_minor": 4
}

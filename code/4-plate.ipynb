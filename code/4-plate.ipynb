{
 "cells": [
  {
   "cell_type": "code",
   "execution_count": 5,
   "id": "e3d82c0e-51e7-4948-b558-57fa4979e48b",
   "metadata": {},
   "outputs": [
    {
     "data": {
      "application/vnd.jupyter.widget-view+json": {
       "model_id": "f80a04d9c0b64d12bd831a4dd60a8b2e",
       "version_major": 2,
       "version_minor": 0
      },
      "text/plain": [
       "HBox(children=(VBox(children=(HBox(children=(Checkbox(value=False, description='Axes', indent=False, _dom_clas…"
      ]
     },
     "metadata": {},
     "output_type": "display_data"
    },
    {
     "name": "stdout",
     "output_type": "stream",
     "text": [
      "Done\n"
     ]
    }
   ],
   "source": [
    "# 4-plate\n",
    "# 2021-12-09\n",
    "#\n",
    "from math import cos, sin, radians\n",
    "import cadquery as cq\n",
    "from cadquery import exporters\n",
    "#\n",
    "from jupyter_cadquery.cadquery import show, PartGroup, Part\n",
    "from jupyter_cadquery import set_defaults, set_sidecar\n",
    "# Comment/Uncomment  set_defaults() function\n",
    "# if JupyterLab Theme ---> Dark  ; Uncomment it\n",
    "# if JupyterLab Theme ---> Light ; use # make next line being a comment\n",
    "set_defaults(theme=\"dark\") \n",
    "\n",
    "def polygon(points):\n",
    "\treturn cq.Workplane().polyline(points).close()\n",
    "\t\n",
    "def circle(r, fn):\n",
    "\ta_step = radians(360 / fn)\n",
    "\tpoints = [(r * cos(a_step * i), r * sin(a_step * i)) for i in range(fn)]\n",
    "\treturn polygon(points)\n",
    "\n",
    "plate = circle(10, 24).extrude(1)\n",
    "show(plate)\n",
    "#\n",
    "exporters.export(plate, './STL/plate.stl')\n",
    "print('Done')"
   ]
  },
  {
   "cell_type": "code",
   "execution_count": null,
   "id": "da56f8b2-2d7a-4089-81fc-b491ed8352dc",
   "metadata": {},
   "outputs": [],
   "source": []
  }
 ],
 "metadata": {
  "kernelspec": {
   "display_name": "Python 3 (ipykernel)",
   "language": "python",
   "name": "python3"
  },
  "language_info": {
   "codemirror_mode": {
    "name": "ipython",
    "version": 3
   },
   "file_extension": ".py",
   "mimetype": "text/x-python",
   "name": "python",
   "nbconvert_exporter": "python",
   "pygments_lexer": "ipython3",
   "version": "3.8.12"
  }
 },
 "nbformat": 4,
 "nbformat_minor": 5
}

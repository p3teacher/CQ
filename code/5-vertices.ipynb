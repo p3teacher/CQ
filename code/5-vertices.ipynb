{
 "cells": [
  {
   "cell_type": "code",
   "execution_count": 17,
   "id": "83247a62-8e85-4c85-9b05-a0fc7603e152",
   "metadata": {},
   "outputs": [
    {
     "name": "stdout",
     "output_type": "stream",
     "text": [
      "total 24 vertices\n",
      "[<cadquery.occ_impl.shapes.Vertex object at 0x7ff3cc325bb0>,\n",
      " <cadquery.occ_impl.shapes.Vertex object at 0x7ff3cc325d30>,\n",
      " <cadquery.occ_impl.shapes.Vertex object at 0x7ff3cc325fa0>,\n",
      " <cadquery.occ_impl.shapes.Vertex object at 0x7ff3cc3256d0>,\n",
      " <cadquery.occ_impl.shapes.Vertex object at 0x7ff3cc33a190>,\n",
      " <cadquery.occ_impl.shapes.Vertex object at 0x7ff3cc1d7220>,\n",
      " <cadquery.occ_impl.shapes.Vertex object at 0x7ff3cc1d7070>,\n",
      " <cadquery.occ_impl.shapes.Vertex object at 0x7ff3cc1d7af0>,\n",
      " <cadquery.occ_impl.shapes.Vertex object at 0x7ff3cc1d71f0>,\n",
      " <cadquery.occ_impl.shapes.Vertex object at 0x7ff3cc1d7fd0>,\n",
      " <cadquery.occ_impl.shapes.Vertex object at 0x7ff3cc1d72b0>,\n",
      " <cadquery.occ_impl.shapes.Vertex object at 0x7ff3cc1d7e50>,\n",
      " <cadquery.occ_impl.shapes.Vertex object at 0x7ff3cc7c56d0>,\n",
      " <cadquery.occ_impl.shapes.Vertex object at 0x7ff3cc22dbe0>,\n",
      " <cadquery.occ_impl.shapes.Vertex object at 0x7ff3cc22db50>,\n",
      " <cadquery.occ_impl.shapes.Vertex object at 0x7ff3cc22d1c0>,\n",
      " <cadquery.occ_impl.shapes.Vertex object at 0x7ff3cc22d2e0>,\n",
      " <cadquery.occ_impl.shapes.Vertex object at 0x7ff3cc22dd60>,\n",
      " <cadquery.occ_impl.shapes.Vertex object at 0x7ff3cc22d730>,\n",
      " <cadquery.occ_impl.shapes.Vertex object at 0x7ff3cc22ddf0>,\n",
      " <cadquery.occ_impl.shapes.Vertex object at 0x7ff3cc22d670>,\n",
      " <cadquery.occ_impl.shapes.Vertex object at 0x7ff3cc22d1f0>,\n",
      " <cadquery.occ_impl.shapes.Vertex object at 0x7ff3cc22d5b0>,\n",
      " <cadquery.occ_impl.shapes.Vertex object at 0x7ff3cc22d250>]\n"
     ]
    },
    {
     "data": {
      "application/vnd.jupyter.widget-view+json": {
       "model_id": "5463fd6daa5940eab3bb4e2e3655f326",
       "version_major": 2,
       "version_minor": 0
      },
      "text/plain": [
       "HBox(children=(VBox(children=(HBox(children=(Checkbox(value=False, description='Axes', indent=False, _dom_clas…"
      ]
     },
     "metadata": {},
     "output_type": "display_data"
    },
    {
     "data": {
      "text/plain": [
       "<jupyter_cadquery.cad_display.CadqueryDisplay at 0x7ff3cc3dbfd0>"
      ]
     },
     "execution_count": 17,
     "metadata": {},
     "output_type": "execute_result"
    }
   ],
   "source": [
    "# 5-vertices\n",
    "# \n",
    "import cadquery as cq\n",
    "import pprint\n",
    "from jupyter_cadquery.cadquery import show, PartGroup, Part\n",
    "from jupyter_cadquery import set_defaults, set_sidecar\n",
    "# Comment/Uncomment  set_defaults() function\n",
    "# if JupyterLab Theme ---> Dark  ; Uncomment it\n",
    "# if JupyterLab Theme ---> Light ; use # make next line being a comment\n",
    "set_defaults(theme=\"dark\") \n",
    "\n",
    "boxes = (cq.Workplane()\n",
    "\t\t\t.box(1, 1, 1)\n",
    "\t\t\t.box(0.5, 0.5, 2)\n",
    "\t\t\t.vertices()\n",
    "\t\t)\n",
    "#\n",
    "print('total',len(boxes.objects), 'vertices')\n",
    "pprint.pprint(boxes.objects)\n",
    "#\n",
    "show(boxes.sphere(0.1))"
   ]
  },
  {
   "cell_type": "code",
   "execution_count": null,
   "id": "f214fa9c-78f4-4f64-bd35-ec9bfda2876d",
   "metadata": {},
   "outputs": [],
   "source": []
  }
 ],
 "metadata": {
  "kernelspec": {
   "display_name": "Python 3 (ipykernel)",
   "language": "python",
   "name": "python3"
  },
  "language_info": {
   "codemirror_mode": {
    "name": "ipython",
    "version": 3
   },
   "file_extension": ".py",
   "mimetype": "text/x-python",
   "name": "python",
   "nbconvert_exporter": "python",
   "pygments_lexer": "ipython3",
   "version": "3.8.12"
  }
 },
 "nbformat": 4,
 "nbformat_minor": 5
}

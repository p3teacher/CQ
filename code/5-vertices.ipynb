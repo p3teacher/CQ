{
 "cells": [
  {
   "cell_type": "code",
   "execution_count": 7,
   "id": "83247a62-8e85-4c85-9b05-a0fc7603e152",
   "metadata": {},
   "outputs": [
    {
     "name": "stdout",
     "output_type": "stream",
     "text": [
      "total 24 vertices\n",
      "[<cadquery.occ_impl.shapes.Vertex object at 0x7fd2e4614dc0>,\n",
      " <cadquery.occ_impl.shapes.Vertex object at 0x7fd2e46146d0>,\n",
      " <cadquery.occ_impl.shapes.Vertex object at 0x7fd2e46144c0>,\n",
      " <cadquery.occ_impl.shapes.Vertex object at 0x7fd2e4614a90>,\n",
      " <cadquery.occ_impl.shapes.Vertex object at 0x7fd2e4614af0>,\n",
      " <cadquery.occ_impl.shapes.Vertex object at 0x7fd2e4614d00>,\n",
      " <cadquery.occ_impl.shapes.Vertex object at 0x7fd2e46142e0>,\n",
      " <cadquery.occ_impl.shapes.Vertex object at 0x7fd2e4614c40>,\n",
      " <cadquery.occ_impl.shapes.Vertex object at 0x7fd2e4614d30>,\n",
      " <cadquery.occ_impl.shapes.Vertex object at 0x7fd2e4614e20>,\n",
      " <cadquery.occ_impl.shapes.Vertex object at 0x7fd2e4614ac0>,\n",
      " <cadquery.occ_impl.shapes.Vertex object at 0x7fd2e4614760>,\n",
      " <cadquery.occ_impl.shapes.Vertex object at 0x7fd2e4614a60>,\n",
      " <cadquery.occ_impl.shapes.Vertex object at 0x7fd2e46147c0>,\n",
      " <cadquery.occ_impl.shapes.Vertex object at 0x7fd2e4614a00>,\n",
      " <cadquery.occ_impl.shapes.Vertex object at 0x7fd2e4614520>,\n",
      " <cadquery.occ_impl.shapes.Vertex object at 0x7fd2e4614040>,\n",
      " <cadquery.occ_impl.shapes.Vertex object at 0x7fd2e4614f10>,\n",
      " <cadquery.occ_impl.shapes.Vertex object at 0x7fd2e4614490>,\n",
      " <cadquery.occ_impl.shapes.Vertex object at 0x7fd2e4614700>,\n",
      " <cadquery.occ_impl.shapes.Vertex object at 0x7fd2e4614790>,\n",
      " <cadquery.occ_impl.shapes.Vertex object at 0x7fd2e4614c70>,\n",
      " <cadquery.occ_impl.shapes.Vertex object at 0x7fd2e4614550>,\n",
      " <cadquery.occ_impl.shapes.Vertex object at 0x7fd2e4614be0>]\n"
     ]
    },
    {
     "data": {
      "application/vnd.jupyter.widget-view+json": {
       "model_id": "2b8b07ea2dc54bb688dcb1dad842321a",
       "version_major": 2,
       "version_minor": 0
      },
      "text/plain": [
       "HBox(children=(VBox(children=(HBox(children=(Checkbox(value=False, description='Axes', indent=False, _dom_clas…"
      ]
     },
     "metadata": {},
     "output_type": "display_data"
    },
    {
     "data": {
      "text/plain": [
       "<jupyter_cadquery.cad_display.CadqueryDisplay at 0x7fd2e464fcd0>"
      ]
     },
     "execution_count": 7,
     "metadata": {},
     "output_type": "execute_result"
    }
   ],
   "source": [
    "# 5-vertices\n",
    "# \n",
    "import cadquery as cq\n",
    "import pprint\n",
    "from jupyter_cadquery.cadquery import show, PartGroup, Part\n",
    "from jupyter_cadquery import set_defaults, set_sidecar\n",
    "# Comment/Uncomment  set_defaults() function\n",
    "# if JupyterLab Theme ---> Dark  ; Uncomment it\n",
    "# if JupyterLab Theme ---> Light ; use # make next line being a comment\n",
    "set_defaults(theme=\"dark\") \n",
    "\n",
    "boxes = (cq.Workplane()\n",
    "\t\t\t.box(1, 1, 1)\n",
    "\t\t\t.box(0.5, 0.5, 2)\n",
    "\t\t\t.vertices()\n",
    "\t\t)\n",
    "#\n",
    "print('total',len(boxes.objects), 'vertices')\n",
    "pprint.pprint(boxes.objects)\n",
    "#\n",
    "show(boxes)"
   ]
  },
  {
   "cell_type": "code",
   "execution_count": null,
   "id": "f214fa9c-78f4-4f64-bd35-ec9bfda2876d",
   "metadata": {},
   "outputs": [],
   "source": []
  }
 ],
 "metadata": {
  "kernelspec": {
   "display_name": "Python 3 (ipykernel)",
   "language": "python",
   "name": "python3"
  },
  "language_info": {
   "codemirror_mode": {
    "name": "ipython",
    "version": 3
   },
   "file_extension": ".py",
   "mimetype": "text/x-python",
   "name": "python",
   "nbconvert_exporter": "python",
   "pygments_lexer": "ipython3",
   "version": "3.8.12"
  }
 },
 "nbformat": 4,
 "nbformat_minor": 5
}

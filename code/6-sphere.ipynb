{
 "cells": [
  {
   "cell_type": "code",
   "execution_count": 2,
   "id": "83247a62-8e85-4c85-9b05-a0fc7603e152",
   "metadata": {},
   "outputs": [
    {
     "name": "stdout",
     "output_type": "stream",
     "text": [
      "total 12 vertices\n",
      "[<cadquery.occ_impl.shapes.Vertex object at 0x7f223a952e80>,\n",
      " <cadquery.occ_impl.shapes.Vertex object at 0x7f223a9529d0>,\n",
      " <cadquery.occ_impl.shapes.Vertex object at 0x7f223a952f40>,\n",
      " <cadquery.occ_impl.shapes.Vertex object at 0x7f223a9521c0>,\n",
      " <cadquery.occ_impl.shapes.Vertex object at 0x7f223a9528e0>,\n",
      " <cadquery.occ_impl.shapes.Vertex object at 0x7f223a9529a0>,\n",
      " <cadquery.occ_impl.shapes.Vertex object at 0x7f223a952790>,\n",
      " <cadquery.occ_impl.shapes.Vertex object at 0x7f223a952d90>,\n",
      " <cadquery.occ_impl.shapes.Vertex object at 0x7f223a952760>,\n",
      " <cadquery.occ_impl.shapes.Vertex object at 0x7f223a952310>,\n",
      " <cadquery.occ_impl.shapes.Vertex object at 0x7f223a952be0>,\n",
      " <cadquery.occ_impl.shapes.Vertex object at 0x7f223a9523d0>]\n"
     ]
    },
    {
     "data": {
      "application/vnd.jupyter.widget-view+json": {
       "model_id": "013ee2fabb5648c0bcada0a340469898",
       "version_major": 2,
       "version_minor": 0
      },
      "text/plain": [
       "HBox(children=(VBox(children=(HBox(children=(Checkbox(value=False, description='Axes', indent=False, _dom_clas…"
      ]
     },
     "metadata": {},
     "output_type": "display_data"
    },
    {
     "name": "stdout",
     "output_type": "stream",
     "text": [
      "Done\n"
     ]
    }
   ],
   "source": [
    "# 6-sphere\n",
    "# 2021-12-10\n",
    "#\n",
    "import cadquery as cq\n",
    "import pprint\n",
    "from jupyter_cadquery.cadquery import show, PartGroup, Part\n",
    "from jupyter_cadquery import set_defaults, set_sidecar\n",
    "# Comment/Uncomment  set_defaults() function\n",
    "# if JupyterLab Theme ---> Dark  ; Uncomment it\n",
    "# if JupyterLab Theme ---> Light ; use # make next line being a comment\n",
    "set_defaults(theme=\"dark\") \n",
    "\n",
    "boxes = (cq.Workplane()\n",
    "\t\t\t.box(1, 1, 1)\n",
    "\t\t\t.box(0.5, 0.5, 2)\n",
    "            .faces('+Z')  # 取得 Z 座標大於 0 的面\n",
    "\t\t\t.vertices()\n",
    "\t\t)\n",
    "#\n",
    "print('total',len(boxes.objects), 'vertices')\n",
    "pprint.pprint(boxes.objects)\n",
    "#\n",
    "boxes_with_sphere = boxes.sphere(0.1)\n",
    "show(boxes_with_sphere)\n",
    "#\n",
    "print('Done')"
   ]
  },
  {
   "cell_type": "code",
   "execution_count": null,
   "id": "f214fa9c-78f4-4f64-bd35-ec9bfda2876d",
   "metadata": {},
   "outputs": [],
   "source": []
  }
 ],
 "metadata": {
  "kernelspec": {
   "display_name": "Python 3 (ipykernel)",
   "language": "python",
   "name": "python3"
  },
  "language_info": {
   "codemirror_mode": {
    "name": "ipython",
    "version": 3
   },
   "file_extension": ".py",
   "mimetype": "text/x-python",
   "name": "python",
   "nbconvert_exporter": "python",
   "pygments_lexer": "ipython3",
   "version": "3.8.12"
  }
 },
 "nbformat": 4,
 "nbformat_minor": 5
}

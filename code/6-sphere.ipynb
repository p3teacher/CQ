{
 "cells": [
  {
   "cell_type": "code",
   "execution_count": 4,
   "id": "83247a62-8e85-4c85-9b05-a0fc7603e152",
   "metadata": {},
   "outputs": [
    {
     "name": "stdout",
     "output_type": "stream",
     "text": [
      "total 12 vertices\n",
      "[<cadquery.occ_impl.shapes.Vertex object at 0x7f752a079520>,\n",
      " <cadquery.occ_impl.shapes.Vertex object at 0x7f752a079790>,\n",
      " <cadquery.occ_impl.shapes.Vertex object at 0x7f752a079970>,\n",
      " <cadquery.occ_impl.shapes.Vertex object at 0x7f752a079b80>,\n",
      " <cadquery.occ_impl.shapes.Vertex object at 0x7f752a0794c0>,\n",
      " <cadquery.occ_impl.shapes.Vertex object at 0x7f752a079400>,\n",
      " <cadquery.occ_impl.shapes.Vertex object at 0x7f752a079d00>,\n",
      " <cadquery.occ_impl.shapes.Vertex object at 0x7f752a0796d0>,\n",
      " <cadquery.occ_impl.shapes.Vertex object at 0x7f752a079f70>,\n",
      " <cadquery.occ_impl.shapes.Vertex object at 0x7f752a079eb0>,\n",
      " <cadquery.occ_impl.shapes.Vertex object at 0x7f752a079a00>,\n",
      " <cadquery.occ_impl.shapes.Vertex object at 0x7f752a0794f0>]\n"
     ]
    },
    {
     "data": {
      "application/vnd.jupyter.widget-view+json": {
       "model_id": "25c9fd0418ff466abb157f22b21b6222",
       "version_major": 2,
       "version_minor": 0
      },
      "text/plain": [
       "HBox(children=(VBox(children=(HBox(children=(Checkbox(value=False, description='Axes', indent=False, _dom_clas…"
      ]
     },
     "metadata": {},
     "output_type": "display_data"
    },
    {
     "name": "stdout",
     "output_type": "stream",
     "text": [
      "Done\n"
     ]
    }
   ],
   "source": [
    "# 6-sphere\n",
    "# 2021-12-10\n",
    "#\n",
    "import cadquery as cq\n",
    "import pprint\n",
    "from jupyter_cadquery.cadquery import show, PartGroup, Part\n",
    "from jupyter_cadquery import set_defaults, set_sidecar\n",
    "# Comment/Uncomment  set_defaults() function\n",
    "# if JupyterLab Theme ---> Dark  ; Uncomment it\n",
    "# if JupyterLab Theme ---> Light ; use # make next line being a comment\n",
    "set_defaults(theme=\"dark\") \n",
    "\n",
    "boxes = (cq.Workplane()\n",
    "\t\t\t.box(1, 1, 1)\n",
    "\t\t\t.box(0.5, 0.5, 2)\n",
    "            .faces('+Z')  # 取得 Z 座標大於 0 的面\n",
    "\t\t\t.vertices()\n",
    "\t\t)\n",
    "#\n",
    "print('total',len(boxes.objects), 'vertices')\n",
    "pprint.pprint(boxes.objects)\n",
    "#\n",
    "# .1 will raise warnning: \n",
    "# ValueError: Out of range float values are not JSON compliant\n",
    "# so .1 ---> 0.1\n",
    "boxes_with_sphere = boxes.sphere(0.1)\n",
    "show(boxes_with_sphere)\n",
    "#\n",
    "print('Done')"
   ]
  },
  {
   "cell_type": "code",
   "execution_count": null,
   "id": "f214fa9c-78f4-4f64-bd35-ec9bfda2876d",
   "metadata": {},
   "outputs": [],
   "source": []
  }
 ],
 "metadata": {
  "kernelspec": {
   "display_name": "Python 3 (ipykernel)",
   "language": "python",
   "name": "python3"
  },
  "language_info": {
   "codemirror_mode": {
    "name": "ipython",
    "version": 3
   },
   "file_extension": ".py",
   "mimetype": "text/x-python",
   "name": "python",
   "nbconvert_exporter": "python",
   "pygments_lexer": "ipython3",
   "version": "3.8.12"
  }
 },
 "nbformat": 4,
 "nbformat_minor": 5
}

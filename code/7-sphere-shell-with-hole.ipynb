{
 "cells": [
  {
   "cell_type": "code",
   "execution_count": 9,
   "id": "83247a62-8e85-4c85-9b05-a0fc7603e152",
   "metadata": {},
   "outputs": [
    {
     "data": {
      "application/vnd.jupyter.widget-view+json": {
       "model_id": "275b03b611804f9a935ae1a5c181659a",
       "version_major": 2,
       "version_minor": 0
      },
      "text/plain": [
       "HBox(children=(VBox(children=(HBox(children=(Checkbox(value=False, description='Axes', indent=False, _dom_clas…"
      ]
     },
     "metadata": {},
     "output_type": "display_data"
    },
    {
     "data": {
      "text/plain": [
       "<jupyter_cadquery.cad_display.CadqueryDisplay at 0x7fad7e3e4be0>"
      ]
     },
     "execution_count": 9,
     "metadata": {},
     "output_type": "execute_result"
    }
   ],
   "source": [
    "# 7-sphere-shell-with-hole\n",
    "# 2021-12-10\n",
    "#\n",
    "import cadquery as cq\n",
    "import pprint\n",
    "from jupyter_cadquery.cadquery import show, PartGroup, Part\n",
    "from jupyter_cadquery import set_defaults, set_sidecar\n",
    "#\n",
    "# Comment/Uncomment  set_defaults() function\n",
    "# if JupyterLab Theme ---> Dark  ; Uncomment it\n",
    "# if JupyterLab Theme ---> Light ; use # make next line being a comment\n",
    "set_defaults(theme=\"dark\") \n",
    "\n",
    "r = 10\n",
    "thickness = 2\n",
    "\"\"\"\n",
    "sphere_1 = (  cq.Workplane()\n",
    "              .sphere(r)\n",
    "           )\n",
    "#\n",
    "sphere_2 = (  cq.Workplane()\n",
    "              .sphere(r - thickness)\n",
    "           )\n",
    "#\n",
    "long_box = (  cq.Workplane()\n",
    "              .box(r / 2, r / 2, r * 3)\n",
    "           )\n",
    "#\n",
    "sphere_shell = sphere_1.cut(sphere_2)\n",
    "sphere_shell_with_hole = sphere_shell.cut(long_box)\n",
    "#\n",
    "\"\"\"\n",
    "sphere_shell_with_hole = (  \n",
    "      cq.Workplane().sphere(r)\n",
    "      .cut(cq.Workplane().sphere(r-thickness))\n",
    "      .cut(cq.Workplane().box(r / 2, r / 2, r * 3))\n",
    "           )\n",
    "#\n",
    "show(sphere_shell_with_hole)"
   ]
  },
  {
   "cell_type": "code",
   "execution_count": null,
   "id": "f214fa9c-78f4-4f64-bd35-ec9bfda2876d",
   "metadata": {},
   "outputs": [],
   "source": []
  }
 ],
 "metadata": {
  "kernelspec": {
   "display_name": "Python 3 (ipykernel)",
   "language": "python",
   "name": "python3"
  },
  "language_info": {
   "codemirror_mode": {
    "name": "ipython",
    "version": 3
   },
   "file_extension": ".py",
   "mimetype": "text/x-python",
   "name": "python",
   "nbconvert_exporter": "python",
   "pygments_lexer": "ipython3",
   "version": "3.8.12"
  }
 },
 "nbformat": 4,
 "nbformat_minor": 5
}

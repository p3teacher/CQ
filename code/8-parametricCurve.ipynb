{
 "cells": [
  {
   "cell_type": "code",
   "execution_count": 13,
   "id": "2339587e-b745-4af9-b6e0-beb028536fd6",
   "metadata": {},
   "outputs": [
    {
     "data": {
      "application/vnd.jupyter.widget-view+json": {
       "model_id": "1eeb4a69196e4b36bedc0f6872b1102e",
       "version_major": 2,
       "version_minor": 0
      },
      "text/plain": [
       "HBox(children=(VBox(children=(HBox(children=(Checkbox(value=True, description='Axes', indent=False, _dom_class…"
      ]
     },
     "metadata": {},
     "output_type": "display_data"
    },
    {
     "data": {
      "text/plain": [
       "<jupyter_cadquery.cad_display.CadqueryDisplay at 0x7fcbe116ce20>"
      ]
     },
     "execution_count": 13,
     "metadata": {},
     "output_type": "execute_result"
    }
   ],
   "source": [
    "# 8-parametricCurve\n",
    "# 2021-12-11\n",
    "#\n",
    "import cadquery as cq\n",
    "from math import sin, pi\n",
    "from jupyter_cadquery.cadquery import show\n",
    "from jupyter_cadquery import set_defaults, set_sidecar\n",
    "#\n",
    "# Comment/Uncomment  set_defaults() function\n",
    "# if JupyterLab Theme ---> Dark  ; Uncomment it\n",
    "# if JupyterLab Theme ---> Light ; use # make next line being a comment\n",
    "set_defaults(axes=True, axes0=True, grid=True, ortho=False)\n",
    "set_defaults(theme=\"dark\") \n",
    "\n",
    "def sin_curve(t):\n",
    "      return (t * 2 * pi, sin(t * 2 * pi))\n",
    "\n",
    "result = (cq.Workplane()\n",
    "            .center(0,0)\n",
    "            .moveTo(2*pi, 0)\n",
    "            .lineTo(2*pi, 5)\n",
    "            .lineTo(0, 5)\n",
    "            .lineTo(0, 0)\n",
    "            .close()\n",
    "            .parametricCurve(sin_curve, start=0, stop=1)\n",
    "            .wire()\n",
    "            .extrude(1)\n",
    "         )\n",
    "#\n",
    "show(result)"
   ]
  },
  {
   "cell_type": "code",
   "execution_count": null,
   "id": "ac786915-caae-4e1f-b897-29032c1ec78f",
   "metadata": {},
   "outputs": [],
   "source": []
  }
 ],
 "metadata": {
  "kernelspec": {
   "display_name": "Python 3 (ipykernel)",
   "language": "python",
   "name": "python3"
  },
  "language_info": {
   "codemirror_mode": {
    "name": "ipython",
    "version": 3
   },
   "file_extension": ".py",
   "mimetype": "text/x-python",
   "name": "python",
   "nbconvert_exporter": "python",
   "pygments_lexer": "ipython3",
   "version": "3.8.12"
  }
 },
 "nbformat": 4,
 "nbformat_minor": 5
}

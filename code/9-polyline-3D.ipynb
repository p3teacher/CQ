{
 "cells": [
  {
   "cell_type": "code",
   "execution_count": 2,
   "id": "2339587e-b745-4af9-b6e0-beb028536fd6",
   "metadata": {},
   "outputs": [
    {
     "data": {
      "application/vnd.jupyter.widget-view+json": {
       "model_id": "72f02932bc2346929ef25023024e7f8b",
       "version_major": 2,
       "version_minor": 0
      },
      "text/plain": [
       "HBox(children=(VBox(children=(HBox(children=(Checkbox(value=True, description='Axes', indent=False, _dom_class…"
      ]
     },
     "metadata": {},
     "output_type": "display_data"
    },
    {
     "data": {
      "text/plain": [
       "<jupyter_cadquery.cad_display.CadqueryDisplay at 0x7ff5c56c5cd0>"
      ]
     },
     "execution_count": 2,
     "metadata": {},
     "output_type": "execute_result"
    }
   ],
   "source": [
    "# 9-polyline-3D\n",
    "# 2021-12-11\n",
    "#\n",
    "import cadquery as cq\n",
    "import numpy as np\n",
    "import pprint\n",
    "\n",
    "from jupyter_cadquery.cadquery import show\n",
    "from jupyter_cadquery import set_defaults, set_sidecar\n",
    "#\n",
    "# Comment/Uncomment  set_defaults() function\n",
    "# if JupyterLab Theme ---> Dark  ; Uncomment it\n",
    "# if JupyterLab Theme ---> Light ; use # make next line being a comment\n",
    "set_defaults(axes=True, axes0=True, grid=True, ortho=False)\n",
    "set_defaults(theme=\"dark\") \n",
    "#\n",
    "numsegments = 361\n",
    "# The coordinates of the Sine\n",
    "x = np.radians(np.linspace(0, 360, numsegments))\n",
    "y = np.sin(x)\n",
    "xy_list_of_list = np.column_stack([x, y])\n",
    "xy_tuple_of_list = [tuple(xy) for xy in xy_list_of_list]\n",
    "\"\"\"\n",
    "print(len(xy_tuple_of_list))\n",
    "print(xy_tuple_of_list[0])\n",
    "print(xy_tuple_of_list[180])\n",
    "print(xy_tuple_of_list[360])\n",
    "aa = xy_tuple_of_list[0:181]\n",
    "print(aa[180])\n",
    "\"\"\"\n",
    "#\n",
    "solid = (cq.Workplane()\n",
    "            .moveTo(2*np.pi, 0)\n",
    "            .lineTo(2*np.pi, 5)\n",
    "            .lineTo(0, 5)\n",
    "            .lineTo(0, 0)\n",
    "            .polyline(xy_tuple_of_list).close()\n",
    "            .wire()\n",
    "            .extrude(1)\n",
    "         )\n",
    "#\n",
    "show(solid)\n",
    "#"
   ]
  },
  {
   "cell_type": "code",
   "execution_count": null,
   "id": "ac786915-caae-4e1f-b897-29032c1ec78f",
   "metadata": {},
   "outputs": [],
   "source": []
  }
 ],
 "metadata": {
  "kernelspec": {
   "display_name": "Python 3 (ipykernel)",
   "language": "python",
   "name": "python3"
  },
  "language_info": {
   "codemirror_mode": {
    "name": "ipython",
    "version": 3
   },
   "file_extension": ".py",
   "mimetype": "text/x-python",
   "name": "python",
   "nbconvert_exporter": "python",
   "pygments_lexer": "ipython3",
   "version": "3.8.12"
  }
 },
 "nbformat": 4,
 "nbformat_minor": 5
}

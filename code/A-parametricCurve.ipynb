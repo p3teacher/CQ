{
 "cells": [
  {
   "cell_type": "code",
   "execution_count": 9,
   "id": "abe1831e-a5e9-485a-b0fc-1035daf7efda",
   "metadata": {},
   "outputs": [
    {
     "data": {
      "application/vnd.jupyter.widget-view+json": {
       "model_id": "4beb9fb7d5054113ab850faecd04974e",
       "version_major": 2,
       "version_minor": 0
      },
      "text/plain": [
       "HBox(children=(VBox(children=(HBox(children=(Checkbox(value=True, description='Axes', indent=False, _dom_class…"
      ]
     },
     "metadata": {},
     "output_type": "display_data"
    },
    {
     "data": {
      "text/plain": [
       "<jupyter_cadquery.cad_display.CadqueryDisplay at 0x7fd0073b7e20>"
      ]
     },
     "execution_count": 9,
     "metadata": {},
     "output_type": "execute_result"
    }
   ],
   "source": [
    "# A-parametricCurve\n",
    "\n",
    "import cadquery as cq\n",
    "import numpy as np\n",
    "\n",
    "from jupyter_cadquery.cadquery import show\n",
    "from jupyter_cadquery import set_defaults, set_sidecar\n",
    "#\n",
    "# Comment/Uncomment  set_defaults() function\n",
    "# if JupyterLab Theme ---> Dark  ; Uncomment it\n",
    "# if JupyterLab Theme ---> Light ; use # make next line being a comment\n",
    "set_defaults(axes=True, axes0=True, grid=True, ortho=False)\n",
    "set_defaults(theme=\"dark\") \n",
    "#\n",
    "numsegments = 361\n",
    "# The coordinates of the Sine\n",
    "x = np.radians(np.linspace(0, 360, numsegments))\n",
    "y = np.sin(x)\n",
    "xy_list_of_list = np.column_stack([x, y])\n",
    "xy_tuple_of_list = [tuple(xy) for xy in xy_list_of_list]\n",
    "#\n",
    "result_1 = (cq.Workplane()\n",
    "          .spline(xy_tuple_of_list[0:181]).close()\n",
    "          .extrude(0.1)\n",
    "         )\n",
    "#\n",
    "result_2 = (cq.Workplane()\n",
    "          .spline(xy_tuple_of_list[180:]).close()\n",
    "          .extrude(0.1)\n",
    "         )\n",
    "#\n",
    "box = cq.Workplane().box(.4, .4, .4)\n",
    "box_090 = box.translate(xy_tuple_of_list[90])\n",
    "box_180 = box.translate(xy_tuple_of_list[180])\n",
    "box_270 = box.translate(xy_tuple_of_list[270])\n",
    "#\n",
    "show(result_1, result_2, box_090, box_180, box_270)\n",
    "            "
   ]
  },
  {
   "cell_type": "code",
   "execution_count": null,
   "id": "766c34a3-14f2-48e8-972d-0b50119c915b",
   "metadata": {},
   "outputs": [],
   "source": []
  }
 ],
 "metadata": {
  "kernelspec": {
   "display_name": "Python 3 (ipykernel)",
   "language": "python",
   "name": "python3"
  },
  "language_info": {
   "codemirror_mode": {
    "name": "ipython",
    "version": 3
   },
   "file_extension": ".py",
   "mimetype": "text/x-python",
   "name": "python",
   "nbconvert_exporter": "python",
   "pygments_lexer": "ipython3",
   "version": "3.8.12"
  }
 },
 "nbformat": 4,
 "nbformat_minor": 5
}

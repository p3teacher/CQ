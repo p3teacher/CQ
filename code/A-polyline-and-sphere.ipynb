{
 "cells": [
  {
   "cell_type": "code",
   "execution_count": 3,
   "id": "abe1831e-a5e9-485a-b0fc-1035daf7efda",
   "metadata": {},
   "outputs": [
    {
     "data": {
      "application/vnd.jupyter.widget-view+json": {
       "model_id": "a3996ff8815b4a3b9077b3e70ed366c6",
       "version_major": 2,
       "version_minor": 0
      },
      "text/plain": [
       "HBox(children=(VBox(children=(HBox(children=(Checkbox(value=True, description='Axes', indent=False, _dom_class…"
      ]
     },
     "metadata": {},
     "output_type": "display_data"
    },
    {
     "data": {
      "text/plain": [
       "<jupyter_cadquery.cad_display.CadqueryDisplay at 0x7ff02bf28f70>"
      ]
     },
     "execution_count": 3,
     "metadata": {},
     "output_type": "execute_result"
    }
   ],
   "source": [
    "# A-polyline-and-sphere\n",
    "\n",
    "import cadquery as cq\n",
    "import numpy as np\n",
    "\n",
    "from jupyter_cadquery.cadquery import show\n",
    "from jupyter_cadquery import set_defaults, set_sidecar\n",
    "#\n",
    "# Comment/Uncomment  set_defaults() function\n",
    "# if JupyterLab Theme ---> Dark  ; Uncomment it\n",
    "# if JupyterLab Theme ---> Light ; use # make next line being a comment\n",
    "set_defaults(axes=True, axes0=True, grid=True, ortho=False)\n",
    "set_defaults(theme=\"dark\") \n",
    "#\n",
    "numsegments = 361\n",
    "# The coordinates of the Sine\n",
    "x = np.radians(np.linspace(0, 360, numsegments))\n",
    "y = np.sin(x)\n",
    "xy_list_of_list = np.column_stack([x, y])\n",
    "xy_tuple_of_list = [tuple(xy) for xy in xy_list_of_list]\n",
    "#\n",
    "result_1 = (cq.Workplane()\n",
    "          .polyline(xy_tuple_of_list[0:181]).close()\n",
    "          .extrude(0.1)\n",
    "         )\n",
    "#\n",
    "result_2 = (cq.Workplane()\n",
    "          .polyline(xy_tuple_of_list[180:]).close()\n",
    "          .extrude(0.1)\n",
    "         )\n",
    "#\n",
    "sphere = cq.Workplane().sphere(0.3)\n",
    "sphere_090 = sphere.translate(xy_tuple_of_list[90])\n",
    "sphere_180 = sphere.translate(xy_tuple_of_list[180])\n",
    "sphere_270 = sphere.translate(xy_tuple_of_list[270])\n",
    "#\n",
    "show(result_1, result_2, sphere_090, sphere_180, sphere_270)\n",
    "            "
   ]
  },
  {
   "cell_type": "code",
   "execution_count": null,
   "id": "766c34a3-14f2-48e8-972d-0b50119c915b",
   "metadata": {},
   "outputs": [],
   "source": []
  }
 ],
 "metadata": {
  "kernelspec": {
   "display_name": "Python 3 (ipykernel)",
   "language": "python",
   "name": "python3"
  },
  "language_info": {
   "codemirror_mode": {
    "name": "ipython",
    "version": 3
   },
   "file_extension": ".py",
   "mimetype": "text/x-python",
   "name": "python",
   "nbconvert_exporter": "python",
   "pygments_lexer": "ipython3",
   "version": "3.8.12"
  }
 },
 "nbformat": 4,
 "nbformat_minor": 5
}

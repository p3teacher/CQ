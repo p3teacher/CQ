{
 "cells": [
  {
   "cell_type": "code",
   "execution_count": 4,
   "id": "2339587e-b745-4af9-b6e0-beb028536fd6",
   "metadata": {},
   "outputs": [
    {
     "name": "stdout",
     "output_type": "stream",
     "text": [
      "<class 'cadquery.occ_impl.shapes.Face'>\n"
     ]
    },
    {
     "data": {
      "application/vnd.jupyter.widget-view+json": {
       "model_id": "b5bc274e51dd443f9efd708668c9ac7c",
       "version_major": 2,
       "version_minor": 0
      },
      "text/plain": [
       "HBox(children=(VBox(children=(HBox(children=(Checkbox(value=True, description='Axes', indent=False, _dom_class…"
      ]
     },
     "metadata": {},
     "output_type": "display_data"
    },
    {
     "data": {
      "text/plain": [
       "<jupyter_cadquery.cad_display.CadqueryDisplay at 0x7f66eaa1d940>"
      ]
     },
     "execution_count": 4,
     "metadata": {},
     "output_type": "execute_result"
    }
   ],
   "source": [
    "# C-Face\n",
    "# 2021-12-11\n",
    "#\n",
    "import cadquery as cq\n",
    "import numpy as np\n",
    "import pprint\n",
    "#\n",
    "from cadquery import (\n",
    "    Face,\n",
    "    Vector, \n",
    "    Wire, \n",
    "    Workplane\n",
    ")\n",
    "#\n",
    "print(Face)\n",
    "from jupyter_cadquery.cadquery import show\n",
    "from jupyter_cadquery import set_defaults, set_sidecar\n",
    "#\n",
    "# Comment/Uncomment  set_defaults() function\n",
    "# if JupyterLab Theme ---> Dark  ; Uncomment it\n",
    "# if JupyterLab Theme ---> Light ; use # make next line being a comment\n",
    "set_defaults(axes=True, axes0=True, grid=True, ortho=False)\n",
    "set_defaults(theme=\"dark\") \n",
    "#\n",
    "def _makeFace(points, forConstruction):\n",
    "    return Wire.makePolygon((\n",
    "             Vector(*p) for p in points + [points[0]]\n",
    "        ), \n",
    "        forConstruction\n",
    "    )\n",
    "# end def\n",
    "#\n",
    "def makeFace(self, listOfXYTuple, forConstruction = False):\n",
    "    p = _makeFace(listOfXYTuple, forConstruction)\n",
    "    return self.eachpoint(lambda loc: p.moved(loc), True)\n",
    "# end def\n",
    "#\n",
    "Workplane.makeFace = makeFace\n",
    "#\n",
    "points_3D_list_1 = [(0, 0, 0), (2*np.pi, 0, 0), (2*np.pi, 5, 0)]\n",
    "points_3D_list_2 = [(0, 0, 0), (2*np.pi, 5, 0), (0, 5, 0)]\n",
    "face_1 = Workplane().makeFace(points_3D_list_1)\n",
    "face_2 = Workplane().makeFace(points_3D_list_2)\n",
    "#\n",
    "show(face_1, face_2)\n",
    "#"
   ]
  },
  {
   "cell_type": "code",
   "execution_count": null,
   "id": "ac786915-caae-4e1f-b897-29032c1ec78f",
   "metadata": {},
   "outputs": [],
   "source": []
  }
 ],
 "metadata": {
  "kernelspec": {
   "display_name": "Python 3 (ipykernel)",
   "language": "python",
   "name": "python3"
  },
  "language_info": {
   "codemirror_mode": {
    "name": "ipython",
    "version": 3
   },
   "file_extension": ".py",
   "mimetype": "text/x-python",
   "name": "python",
   "nbconvert_exporter": "python",
   "pygments_lexer": "ipython3",
   "version": "3.8.12"
  }
 },
 "nbformat": 4,
 "nbformat_minor": 5
}

{
 "cells": [
  {
   "cell_type": "code",
   "execution_count": 7,
   "id": "2339587e-b745-4af9-b6e0-beb028536fd6",
   "metadata": {},
   "outputs": [
    {
     "ename": "AttributeError",
     "evalue": "'Workplane' object has no attribute 'wrapped'",
     "output_type": "error",
     "traceback": [
      "\u001b[0;31m---------------------------------------------------------------------------\u001b[0m",
      "\u001b[0;31mAttributeError\u001b[0m                            Traceback (most recent call last)",
      "\u001b[0;32m/tmp/ipykernel_106/3644598667.py\u001b[0m in \u001b[0;36m<module>\u001b[0;34m\u001b[0m\n\u001b[1;32m     45\u001b[0m \u001b[0;31m## --------------------------------------------------------------\u001b[0m\u001b[0;34m\u001b[0m\u001b[0;34m\u001b[0m\u001b[0;34m\u001b[0m\u001b[0m\n\u001b[1;32m     46\u001b[0m \u001b[0;31m#\u001b[0m\u001b[0;34m\u001b[0m\u001b[0;34m\u001b[0m\u001b[0;34m\u001b[0m\u001b[0m\n\u001b[0;32m---> 47\u001b[0;31m \u001b[0mface_1\u001b[0m \u001b[0;34m=\u001b[0m \u001b[0mFace\u001b[0m\u001b[0;34m.\u001b[0m\u001b[0mmakeFromWires\u001b[0m\u001b[0;34m(\u001b[0m\u001b[0mwire_1\u001b[0m\u001b[0;34m)\u001b[0m\u001b[0;34m\u001b[0m\u001b[0;34m\u001b[0m\u001b[0m\n\u001b[0m\u001b[1;32m     48\u001b[0m \u001b[0mface_2\u001b[0m \u001b[0;34m=\u001b[0m \u001b[0mFace\u001b[0m\u001b[0;34m.\u001b[0m\u001b[0mmakeFromWires\u001b[0m\u001b[0;34m(\u001b[0m\u001b[0mwire_2\u001b[0m\u001b[0;34m)\u001b[0m\u001b[0;34m\u001b[0m\u001b[0;34m\u001b[0m\u001b[0m\n\u001b[1;32m     49\u001b[0m \u001b[0;31m#\u001b[0m\u001b[0;34m\u001b[0m\u001b[0;34m\u001b[0m\u001b[0;34m\u001b[0m\u001b[0m\n",
      "\u001b[0;32m/srv/conda/envs/notebook/lib/python3.8/site-packages/cadquery/occ_impl/shapes.py\u001b[0m in \u001b[0;36mmakeFromWires\u001b[0;34m(cls, outerWire, innerWires)\u001b[0m\n\u001b[1;32m   1882\u001b[0m         \"\"\"\n\u001b[1;32m   1883\u001b[0m \u001b[0;34m\u001b[0m\u001b[0m\n\u001b[0;32m-> 1884\u001b[0;31m         \u001b[0mface_builder\u001b[0m \u001b[0;34m=\u001b[0m \u001b[0mBRepBuilderAPI_MakeFace\u001b[0m\u001b[0;34m(\u001b[0m\u001b[0mouterWire\u001b[0m\u001b[0;34m.\u001b[0m\u001b[0mwrapped\u001b[0m\u001b[0;34m,\u001b[0m \u001b[0;32mTrue\u001b[0m\u001b[0;34m)\u001b[0m\u001b[0;34m\u001b[0m\u001b[0;34m\u001b[0m\u001b[0m\n\u001b[0m\u001b[1;32m   1885\u001b[0m \u001b[0;34m\u001b[0m\u001b[0m\n\u001b[1;32m   1886\u001b[0m         \u001b[0;32mfor\u001b[0m \u001b[0mw\u001b[0m \u001b[0;32min\u001b[0m \u001b[0minnerWires\u001b[0m\u001b[0;34m:\u001b[0m\u001b[0;34m\u001b[0m\u001b[0;34m\u001b[0m\u001b[0m\n",
      "\u001b[0;31mAttributeError\u001b[0m: 'Workplane' object has no attribute 'wrapped'"
     ]
    }
   ],
   "source": [
    "# C-Face\n",
    "# 2021-12-11\n",
    "#\n",
    "import cadquery as cq\n",
    "import numpy as np\n",
    "import pprint\n",
    "#\n",
    "from cadquery import (\n",
    "    Face,\n",
    "    Vector, \n",
    "    Wire, \n",
    "    Workplane\n",
    ")\n",
    "#\n",
    "from jupyter_cadquery.cadquery import show\n",
    "from jupyter_cadquery import set_defaults, set_sidecar\n",
    "#\n",
    "# Comment/Uncomment  set_defaults() function\n",
    "# if JupyterLab Theme ---> Dark  ; Uncomment it\n",
    "# if JupyterLab Theme ---> Light ; use # make next line being a comment\n",
    "set_defaults(axes=True, axes0=True, grid=True, ortho=False)\n",
    "set_defaults(theme=\"dark\") \n",
    "#\n",
    "points_3D_list_1 = [(0, 0, 0), (2*np.pi, 0, 0), (2*np.pi, 5, 0)]\n",
    "points_3D_list_2 = [(0, 0, 0), (2*np.pi, 5, 0), (0, 5, 0)]\n",
    "#\n",
    "def _makePolygon(points, forConstruction):\n",
    "    return Wire.makePolygon((\n",
    "             Vector(*p) for p in points + [points[0]]\n",
    "        ), \n",
    "        forConstruction\n",
    "    )\n",
    "# end def\n",
    "#\n",
    "def makePolygon(self, listOfXYTuple, forConstruction = False):\n",
    "    p = _makePolygon(listOfXYTuple, forConstruction)\n",
    "    return self.eachpoint(lambda loc: p.moved(loc), True)\n",
    "# end def\n",
    "#\n",
    "Workplane.makePolygon = makePolygon\n",
    "#\n",
    "wire_1 = Workplane().makePolygon(points_3D_list_1)\n",
    "wire_2 = Workplane().makePolygon(points_3D_list_2)\n",
    "#\n",
    "face_1 = Face.makeFromWires(wire_1)\n",
    "face_2 = Face.makeFromWires(wire_2)\n",
    "#\n",
    "print(face_1)\n",
    "show(face_1, face_2)\n",
    "#"
   ]
  },
  {
   "cell_type": "code",
   "execution_count": null,
   "id": "ac786915-caae-4e1f-b897-29032c1ec78f",
   "metadata": {},
   "outputs": [],
   "source": []
  }
 ],
 "metadata": {
  "kernelspec": {
   "display_name": "Python 3 (ipykernel)",
   "language": "python",
   "name": "python3"
  },
  "language_info": {
   "codemirror_mode": {
    "name": "ipython",
    "version": 3
   },
   "file_extension": ".py",
   "mimetype": "text/x-python",
   "name": "python",
   "nbconvert_exporter": "python",
   "pygments_lexer": "ipython3",
   "version": "3.8.12"
  }
 },
 "nbformat": 4,
 "nbformat_minor": 5
}

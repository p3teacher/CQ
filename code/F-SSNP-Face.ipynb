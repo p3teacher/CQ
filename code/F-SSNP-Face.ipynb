{
 "cells": [
  {
   "cell_type": "code",
   "execution_count": 19,
   "id": "2339587e-b745-4af9-b6e0-beb028536fd6",
   "metadata": {},
   "outputs": [
    {
     "name": "stdout",
     "output_type": "stream",
     "text": [
      "row 205\n",
      "row 206\n",
      "row 207\n",
      "row 208\n",
      "row 209\n"
     ]
    },
    {
     "data": {
      "application/vnd.jupyter.widget-view+json": {
       "model_id": "c6b5bf0be5ca41ea917d8f6a5fd42601",
       "version_major": 2,
       "version_minor": 0
      },
      "text/plain": [
       "HBox(children=(VBox(children=(HBox(children=(Checkbox(value=True, description='Axes', indent=False, _dom_class…"
      ]
     },
     "metadata": {},
     "output_type": "display_data"
    },
    {
     "data": {
      "text/plain": [
       "<jupyter_cadquery.cad_display.CadqueryDisplay at 0x7f1487b94610>"
      ]
     },
     "execution_count": 19,
     "metadata": {},
     "output_type": "execute_result"
    }
   ],
   "source": [
    "# C-Face\n",
    "# 2021-12-11\n",
    "#\n",
    "import cadquery as cq\n",
    "import pickle\n",
    "import numpy as np\n",
    "import pprint\n",
    "#\n",
    "from cadquery import (\n",
    "    Vector, \n",
    "    Wire, \n",
    "    Workplane\n",
    ")\n",
    "#\n",
    "from jupyter_cadquery.cadquery import show\n",
    "from jupyter_cadquery import set_defaults, set_sidecar\n",
    "#\n",
    "# Comment/Uncomment  set_defaults() function\n",
    "# if JupyterLab Theme ---> Dark  ; Uncomment it\n",
    "# if JupyterLab Theme ---> Light ; use # make next line being a comment\n",
    "set_defaults(axes=True, axes0=False, grid=True, ortho=False)\n",
    "set_defaults(theme=\"dark\") \n",
    "#\n",
    "def _makeFace(points, forConstruction):\n",
    "    return Wire.makePolygon((\n",
    "             Vector(*p) for p in points + [points[0]]\n",
    "        ), \n",
    "        forConstruction\n",
    "    )\n",
    "# end def\n",
    "#\n",
    "def makeFace(self, listOfXYTuple, forConstruction = False):\n",
    "    p = _makeFace(listOfXYTuple, forConstruction)\n",
    "    return self.eachpoint(lambda loc: p.moved(loc), True)\n",
    "# end def\n",
    "#\n",
    "Workplane.makeFace = makeFace\n",
    "#\n",
    "path_data  = './data/'\n",
    "with open(path_data + '349x196x3_XYZ.dat', 'rb') as in_file :\n",
    "    dem_rows = pickle.load(in_file)\n",
    "# end with    \n",
    "#\n",
    "xyz_rows = []\n",
    "for i in range(0,349,1) :\n",
    "    xyz_rows.append([tuple(xyz) for xyz in dem_rows[i]])\n",
    "# end for\n",
    "#\n",
    "rows_face = []\n",
    "# for i in range(0,348,1):\n",
    "for i in range(205,210,1):    \n",
    "    row_face = []\n",
    "    for j in range(0,195,1):\n",
    "        row_face.append(Workplane().makeFace([xyz_rows[i][j],  xyz_rows[i]  [j+1], xyz_rows[i+1][j]]).extrude(0.005))\n",
    "        row_face.append(Workplane().makeFace([xyz_rows[i][j+1],xyz_rows[i+1][j+1], xyz_rows[i+1][j]]).extrude(0.005))\n",
    "    # end for\n",
    "    print('row', i)\n",
    "    rows_face.append(row_face)\n",
    "# end for\n",
    "#\n",
    "show(rows_face[0][100],rows_face[0][101],rows_face[0][102],rows_face[0][103],rows_face[0][104],rows_face[0][105],\n",
    "     rows_face[1][100],rows_face[1][101],rows_face[1][102],rows_face[1][103],rows_face[1][104],rows_face[1][105],\n",
    "     rows_face[2][100],rows_face[2][101],rows_face[2][102],rows_face[2][103],rows_face[2][104],rows_face[2][105] )"
   ]
  },
  {
   "cell_type": "code",
   "execution_count": null,
   "id": "ac786915-caae-4e1f-b897-29032c1ec78f",
   "metadata": {},
   "outputs": [],
   "source": []
  }
 ],
 "metadata": {
  "kernelspec": {
   "display_name": "Python 3 (ipykernel)",
   "language": "python",
   "name": "python3"
  },
  "language_info": {
   "codemirror_mode": {
    "name": "ipython",
    "version": 3
   },
   "file_extension": ".py",
   "mimetype": "text/x-python",
   "name": "python",
   "nbconvert_exporter": "python",
   "pygments_lexer": "ipython3",
   "version": "3.8.12"
  }
 },
 "nbformat": 4,
 "nbformat_minor": 5
}

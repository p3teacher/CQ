{
 "cells": [
  {
   "cell_type": "code",
   "execution_count": 7,
   "id": "2339587e-b745-4af9-b6e0-beb028536fd6",
   "metadata": {},
   "outputs": [
    {
     "name": "stdout",
     "output_type": "stream",
     "text": [
      "row 205\n",
      "row 206\n",
      "row 207\n",
      "row 208\n",
      "row 209\n",
      "<cadquery.cq.Workplane object at 0x7f8136eb6f70><cadquery.cq.Workplane object at 0x7f8136ebc4c0><cadquery.cq.Workplane object at 0x7f8136eb6fd0><cadquery.cq.Workplane object at 0x7f8136ebcfd0><cadquery.cq.Workplane object at 0x7f8136ec2fa0><cadquery.cq.Workplane object at 0x7f8136ec2430>\n"
     ]
    },
    {
     "ename": "SyntaxError",
     "evalue": "invalid syntax (<string>, line 1)",
     "output_type": "error",
     "traceback": [
      "Traceback \u001b[0;36m(most recent call last)\u001b[0m:\n",
      "  File \u001b[1;32m\"/srv/conda/envs/notebook/lib/python3.8/site-packages/IPython/core/interactiveshell.py\"\u001b[0m, line \u001b[1;32m3444\u001b[0m, in \u001b[1;35mrun_code\u001b[0m\n    exec(code_obj, self.user_global_ns, self.user_ns)\n",
      "\u001b[0;36m  File \u001b[0;32m\"/tmp/ipykernel_66/1242139471.py\"\u001b[0;36m, line \u001b[0;32m67\u001b[0;36m, in \u001b[0;35m<module>\u001b[0;36m\u001b[0m\n\u001b[0;31m    show(eval(show_obj_list))\u001b[0m\n",
      "\u001b[0;36m  File \u001b[0;32m\"<string>\"\u001b[0;36m, line \u001b[0;32m1\u001b[0m\n\u001b[0;31m    <cadquery.cq.Workplane object at 0x7f8136eb6f70><cadquery.cq.Workplane object at 0x7f8136ebc4c0><cadquery.cq.Workplane object at 0x7f8136eb6fd0><cadquery.cq.Workplane object at 0x7f8136ebcfd0><cadquery.cq.Workplane object at 0x7f8136ec2fa0><cadquery.cq.Workplane object at 0x7f8136ec2430>\u001b[0m\n\u001b[0m    ^\u001b[0m\n\u001b[0;31mSyntaxError\u001b[0m\u001b[0;31m:\u001b[0m invalid syntax\n"
     ]
    }
   ],
   "source": [
    "# C-Face\n",
    "# 2021-12-11\n",
    "#\n",
    "import cadquery as cq\n",
    "import pickle\n",
    "import numpy as np\n",
    "import pprint\n",
    "#\n",
    "from cadquery import (\n",
    "    Vector, \n",
    "    Wire, \n",
    "    Workplane\n",
    ")\n",
    "#\n",
    "from jupyter_cadquery.cadquery import show\n",
    "from jupyter_cadquery import set_defaults, set_sidecar\n",
    "#\n",
    "# Comment/Uncomment  set_defaults() function\n",
    "# if JupyterLab Theme ---> Dark  ; Uncomment it\n",
    "# if JupyterLab Theme ---> Light ; use # make next line being a comment\n",
    "set_defaults(axes=True, axes0=False, grid=True, ortho=False)\n",
    "set_defaults(theme=\"dark\") \n",
    "#\n",
    "def _makeFace(points, forConstruction):\n",
    "    return Wire.makePolygon((\n",
    "             Vector(*p) for p in points + [points[0]]\n",
    "        ), \n",
    "        forConstruction\n",
    "    )\n",
    "# end def\n",
    "#\n",
    "def makeFace(self, listOfXYTuple, forConstruction = False):\n",
    "    p = _makeFace(listOfXYTuple, forConstruction)\n",
    "    return self.eachpoint(lambda loc: p.moved(loc), True)\n",
    "# end def\n",
    "#\n",
    "Workplane.makeFace = makeFace\n",
    "#\n",
    "path_data  = './data/'\n",
    "with open(path_data + '349x196x3_XYZ.dat', 'rb') as in_file :\n",
    "    dem_rows = pickle.load(in_file)\n",
    "# end with    \n",
    "#\n",
    "xyz_rows = []\n",
    "for i in range(0,349,1) :\n",
    "    xyz_rows.append([tuple(xyz) for xyz in dem_rows[i]])\n",
    "# end for\n",
    "#\n",
    "rows_face = []\n",
    "# for i in range(0,348,1):\n",
    "for i in range(205,210,1):    \n",
    "    row_face = []\n",
    "    for j in range(0,195,1):\n",
    "        row_face.append(Workplane().makeFace([xyz_rows[i][j],  xyz_rows[i]  [j+1], xyz_rows[i+1][j]]).extrude(0.005))\n",
    "        row_face.append(Workplane().makeFace([xyz_rows[i][j+1],xyz_rows[i+1][j+1], xyz_rows[i+1][j]]).extrude(0.005))\n",
    "    # end for\n",
    "    print('row', i)\n",
    "    rows_face.append(row_face)\n",
    "# end for\n",
    "#\n",
    "show_obj_list = \"\"\n",
    "for tri in rows_face[0][100:106] :\n",
    "    show_obj_list = show_obj_list + str(tri)\n",
    "# end for\n",
    "#\n",
    "print(show_obj_list)\n",
    "show(eval(show_obj_list))"
   ]
  },
  {
   "cell_type": "code",
   "execution_count": null,
   "id": "ac786915-caae-4e1f-b897-29032c1ec78f",
   "metadata": {},
   "outputs": [],
   "source": []
  }
 ],
 "metadata": {
  "kernelspec": {
   "display_name": "Python 3 (ipykernel)",
   "language": "python",
   "name": "python3"
  },
  "language_info": {
   "codemirror_mode": {
    "name": "ipython",
    "version": 3
   },
   "file_extension": ".py",
   "mimetype": "text/x-python",
   "name": "python",
   "nbconvert_exporter": "python",
   "pygments_lexer": "ipython3",
   "version": "3.8.12"
  }
 },
 "nbformat": 4,
 "nbformat_minor": 5
}

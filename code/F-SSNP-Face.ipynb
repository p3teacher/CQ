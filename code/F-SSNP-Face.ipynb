{
 "cells": [
  {
   "cell_type": "code",
   "execution_count": 15,
   "id": "2339587e-b745-4af9-b6e0-beb028536fd6",
   "metadata": {},
   "outputs": [
    {
     "name": "stdout",
     "output_type": "stream",
     "text": [
      "append row 200\n",
      "append row 201\n",
      "append row 202\n",
      "append row 203\n",
      "append row 204\n",
      "append row 205\n",
      "append row 206\n",
      "append row 207\n",
      "append row 208\n",
      "append row 209\n",
      "row 0\n",
      "row 1\n",
      "row 2\n",
      "row 3\n",
      "row 4\n",
      "row 5\n",
      "row 6\n",
      "row 7\n",
      "row 8\n",
      "row 9\n"
     ]
    },
    {
     "data": {
      "application/vnd.jupyter.widget-view+json": {
       "model_id": "901d6e651a404dceae7c621ae00acd8f",
       "version_major": 2,
       "version_minor": 0
      },
      "text/plain": [
       "HBox(children=(VBox(children=(HBox(children=(Checkbox(value=True, description='Axes', indent=False, _dom_class…"
      ]
     },
     "metadata": {},
     "output_type": "display_data"
    },
    {
     "data": {
      "text/plain": [
       "<jupyter_cadquery.cad_display.CadqueryDisplay at 0x7fbd198b66d0>"
      ]
     },
     "execution_count": 15,
     "metadata": {},
     "output_type": "execute_result"
    }
   ],
   "source": [
    "# C-Face\n",
    "# 2021-12-11\n",
    "#\n",
    "import cadquery as cq\n",
    "import pickle\n",
    "import numpy as np\n",
    "#\n",
    "from cadquery import Vector, Wire, Workplane\n",
    "from jupyter_cadquery.cadquery import show\n",
    "from jupyter_cadquery import set_defaults, set_sidecar\n",
    "#\n",
    "# Comment/Uncomment  set_defaults() function\n",
    "# if JupyterLab Theme ---> Dark  ; Uncomment it\n",
    "# if JupyterLab Theme ---> Light ; use # make next line being a comment\n",
    "set_defaults(axes=True, axes0=False, grid=True, ortho=False)\n",
    "set_defaults(theme=\"dark\") \n",
    "#\n",
    "def _makeFace(points, forConstruction):\n",
    "    return Wire.makePolygon((\n",
    "             Vector(*p) for p in points + [points[0]]\n",
    "        ), \n",
    "        forConstruction\n",
    "    )\n",
    "# end def\n",
    "#\n",
    "def makeFace(self, listOfXYTuple, forConstruction = False):\n",
    "    p = _makeFace(listOfXYTuple, forConstruction)\n",
    "    return self.eachpoint(lambda loc: p.moved(loc), True)\n",
    "# end def\n",
    "#\n",
    "Workplane.makeFace = makeFace\n",
    "#\n",
    "path_data  = './data/'\n",
    "with open(path_data + '349x196x3_XYZ.dat', 'rb') as in_file :\n",
    "    dem_rows = pickle.load(in_file)\n",
    "# end with    \n",
    "#\n",
    "xyz_rows = []\n",
    "for i in range(0,349,1) :\n",
    "    xyz_rows.append([tuple(xyz) for xyz in dem_rows[i]])\n",
    "# end for\n",
    "#\n",
    "rows = []\n",
    "# for i in range(0,348,1):\n",
    "for i in range(200,210,1):    \n",
    "    row = []\n",
    "    for j in range(0,195,1):\n",
    "        row.append(Workplane().makeFace([xyz_rows[i][j],  xyz_rows[i]  [j+1], xyz_rows[i+1][j]]).extrude(0.03))\n",
    "        row.append(Workplane().makeFace([xyz_rows[i][j+1],xyz_rows[i+1][j+1], xyz_rows[i+1][j]]).extrude(0.03))\n",
    "    # end for\n",
    "    print('append row', i)\n",
    "    rows.append(row)\n",
    "# end for\n",
    "#\n",
    "obj_str = \"\"\n",
    "i = 0\n",
    "for row in rows :\n",
    "    print('row', i)\n",
    "    str_1 = 'rows[' + str(i) + ']'\n",
    "    j = 100\n",
    "    tri_list = row[j:120]\n",
    "    for tri in tri_list :\n",
    "        str_2 = '[' + str(j) + '],'\n",
    "        obj_str = obj_str + str_1 + str_2\n",
    "        j = j + 1\n",
    "    # end for\n",
    "    i = i + 1\n",
    "# end for\n",
    "#\n",
    "n_char = len(obj_str)\n",
    "show_str = 'show(' + obj_str[:n_char-1] + ')'\n",
    "# print(show_str)\n",
    "#\n",
    "eval(show_str)"
   ]
  },
  {
   "cell_type": "code",
   "execution_count": null,
   "id": "ac786915-caae-4e1f-b897-29032c1ec78f",
   "metadata": {},
   "outputs": [],
   "source": []
  }
 ],
 "metadata": {
  "kernelspec": {
   "display_name": "Python 3 (ipykernel)",
   "language": "python",
   "name": "python3"
  },
  "language_info": {
   "codemirror_mode": {
    "name": "ipython",
    "version": 3
   },
   "file_extension": ".py",
   "mimetype": "text/x-python",
   "name": "python",
   "nbconvert_exporter": "python",
   "pygments_lexer": "ipython3",
   "version": "3.8.12"
  }
 },
 "nbformat": 4,
 "nbformat_minor": 5
}

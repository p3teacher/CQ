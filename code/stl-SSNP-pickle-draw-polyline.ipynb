{
 "cells": [
  {
   "cell_type": "code",
   "execution_count": 7,
   "id": "eddf0088-da9f-410b-a58b-f7ee4b6ca837",
   "metadata": {},
   "outputs": [
    {
     "name": "stdout",
     "output_type": "stream",
     "text": [
      "當前工作目錄 ==> /home/jovyan/code\n",
      "dem_rows has 349 rows\n",
      "dem_rows has 196 column\n",
      "i is 0\n",
      "i is 20\n",
      "i is 40\n",
      "i is 60\n",
      "i is 80\n",
      "i is 100\n",
      "i is 120\n",
      "i is 140\n",
      "i is 160\n",
      "i is 180\n",
      "i is 200\n",
      "i is 220\n",
      "i is 240\n",
      "i is 260\n",
      "i is 280\n",
      "i is 300\n",
      "i is 320\n",
      "i is 340\n",
      "j is 0\n",
      "j is 10\n",
      "j is 20\n",
      "j is 30\n",
      "j is 40\n",
      "j is 50\n",
      "j is 60\n",
      "j is 70\n",
      "j is 80\n",
      "j is 90\n",
      "j is 100\n",
      "j is 110\n",
      "j is 120\n",
      "j is 130\n",
      "j is 140\n",
      "j is 150\n",
      "j is 160\n",
      "j is 170\n",
      "j is 180\n",
      "j is 190\n"
     ]
    },
    {
     "data": {
      "application/vnd.jupyter.widget-view+json": {
       "model_id": "1bc926dc4fb54018b5823adcb623f330",
       "version_major": 2,
       "version_minor": 0
      },
      "text/plain": [
       "HBox(children=(VBox(children=(HBox(children=(Checkbox(value=True, description='Axes', indent=False, _dom_class…"
      ]
     },
     "metadata": {},
     "output_type": "display_data"
    },
    {
     "data": {
      "text/plain": [
       "<jupyter_cadquery.cad_display.CadqueryDisplay at 0x7f45cf2d3610>"
      ]
     },
     "execution_count": 7,
     "metadata": {},
     "output_type": "execute_result"
    }
   ],
   "source": [
    "# stl-SSNP-pickle-draw-polyline.py\n",
    "# 2021-12-10\n",
    "#\n",
    "# pickle 是 Python 的內建模組\n",
    "# read 349x196x3_XYZ.dat file\n",
    "#\n",
    "import os\n",
    "path = os.getcwd()\n",
    "print('當前工作目錄 ==>', path)\n",
    "#\n",
    "import pickle\n",
    "import cadquery as cq\n",
    "import numpy as np\n",
    "import pprint\n",
    "\n",
    "from jupyter_cadquery.cadquery import show\n",
    "from jupyter_cadquery import set_defaults, set_sidecar\n",
    "#\n",
    "# Comment/Uncomment  set_defaults() function\n",
    "# if JupyterLab Theme ---> Dark  ; Uncomment it\n",
    "# if JupyterLab Theme ---> Light ; use # make next line being a comment\n",
    "set_defaults(axes=True, axes0=True, grid=True, ortho=False)\n",
    "set_defaults(theme=\"dark\") \n",
    "#\n",
    "path_data  = './data/'\n",
    "path_3Dstl = './STL/'\n",
    "#\n",
    "with open(path_data + '349x196x3_XYZ.dat', 'rb') as in_file :\n",
    "    dem_rows = pickle.load(in_file)\n",
    "# end with    \n",
    "#\n",
    "print('dem_rows has', len(dem_rows),    'rows')\n",
    "print('dem_rows has', len(dem_rows[0]), 'column')\n",
    "#\n",
    "rows = []\n",
    "for i in range(0,349,1) :\n",
    "    if i % 20 == 0 :\n",
    "        print('i is', i)\n",
    "    # end if\n",
    "    XYZ_tuple_row = [tuple(XYZ) for XYZ in dem_rows[i]]\n",
    "    rows.append(cq.Workplane()\n",
    "                  .polyline(XYZ_tuple_row)\n",
    "                  .wire()\n",
    "                  .extrude(3)\n",
    "                        )\n",
    "# end for\n",
    "#\n",
    "\"\"\"\n",
    "cols = []\n",
    "for j in range(0,196,1) :\n",
    "    if j % 10 == 0 :\n",
    "        print('j is', j)\n",
    "    # end if\n",
    "    #\n",
    "    XYZ_tuple_col = []\n",
    "    for i in range(0,349,1) :\n",
    "        XYZ_tuple_col.append(tuple(dem_rows[i][j]))\n",
    "    # end for\n",
    "    #\n",
    "    cols.append(cq.Workplane()\n",
    "                  .polyline(XYZ_tuple_col)\n",
    "                  .wire()\n",
    "                  .extrude(3)\n",
    "                        )\n",
    "# end for\n",
    "#\n",
    "\"\"\"\n",
    "show(rows[100], rows[110]])\n",
    "#"
   ]
  },
  {
   "cell_type": "code",
   "execution_count": null,
   "id": "8924629f-c6f4-4e61-9822-9a70b1a1147e",
   "metadata": {},
   "outputs": [],
   "source": []
  }
 ],
 "metadata": {
  "kernelspec": {
   "display_name": "Python 3 (ipykernel)",
   "language": "python",
   "name": "python3"
  },
  "language_info": {
   "codemirror_mode": {
    "name": "ipython",
    "version": 3
   },
   "file_extension": ".py",
   "mimetype": "text/x-python",
   "name": "python",
   "nbconvert_exporter": "python",
   "pygments_lexer": "ipython3",
   "version": "3.8.12"
  }
 },
 "nbformat": 4,
 "nbformat_minor": 5
}

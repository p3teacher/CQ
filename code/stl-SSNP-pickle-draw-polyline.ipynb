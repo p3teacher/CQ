{
 "cells": [
  {
   "cell_type": "code",
   "execution_count": 5,
   "id": "eddf0088-da9f-410b-a58b-f7ee4b6ca837",
   "metadata": {},
   "outputs": [
    {
     "name": "stdout",
     "output_type": "stream",
     "text": [
      "當前工作目錄 ==> /home/jovyan/code\n",
      "dem_rows has 349 rows\n",
      "dem_rows has 196 column\n",
      "-1.0 20.4\n",
      "i is 0\n",
      "i is 20\n",
      "i is 40\n",
      "i is 60\n",
      "i is 80\n",
      "i is 100\n",
      "i is 120\n",
      "i is 140\n",
      "i is 160\n",
      "i is 180\n",
      "i is 200\n",
      "i is 220\n",
      "i is 240\n",
      "i is 260\n",
      "i is 280\n",
      "i is 300\n",
      "i is 320\n",
      "i is 340\n"
     ]
    },
    {
     "data": {
      "application/vnd.jupyter.widget-view+json": {
       "model_id": "5b78435ca666419db6b47ba2ac53c61a",
       "version_major": 2,
       "version_minor": 0
      },
      "text/plain": [
       "HBox(children=(VBox(children=(HBox(children=(Checkbox(value=True, description='Axes', indent=False, _dom_class…"
      ]
     },
     "metadata": {},
     "output_type": "display_data"
    },
    {
     "data": {
      "text/plain": [
       "<jupyter_cadquery.cad_display.CadqueryDisplay at 0x7f93e52138b0>"
      ]
     },
     "execution_count": 5,
     "metadata": {},
     "output_type": "execute_result"
    }
   ],
   "source": [
    "# stl-SSNP-pickle-draw-polyline.py\n",
    "# 2021-12-11\n",
    "#\n",
    "# pickle 是 Python 的內建模組\n",
    "# read 349x196x3_XYZ.dat file\n",
    "#\n",
    "import os\n",
    "path = os.getcwd()\n",
    "print('當前工作目錄 ==>', path)\n",
    "#\n",
    "import pickle\n",
    "import cadquery as cq\n",
    "import numpy as np\n",
    "import pprint\n",
    "\n",
    "from jupyter_cadquery.cadquery import show\n",
    "from jupyter_cadquery import set_defaults, set_sidecar\n",
    "#\n",
    "# Comment/Uncomment  set_defaults() function\n",
    "# if JupyterLab Theme ---> Dark  ; Uncomment it\n",
    "# if JupyterLab Theme ---> Light ; use # make next line being a comment\n",
    "set_defaults(axes=True, axes0=True, grid=True, ortho=False)\n",
    "set_defaults(theme=\"dark\") \n",
    "#\n",
    "path_data  = './data/'\n",
    "path_3Dstl = './STL/'\n",
    "#\n",
    "with open(path_data + '349x196x3_XYZ.dat', 'rb') as in_file :\n",
    "    dem_rows = pickle.load(in_file)\n",
    "# end with    \n",
    "#\n",
    "print('dem_rows has', len(dem_rows),    'rows')\n",
    "print('dem_rows has', len(dem_rows[0]), 'column')\n",
    "#\n",
    "rows = []\n",
    "for i in range(0,349,1) :\n",
    "    if i % 20 == 0 :\n",
    "        print('i is', i)\n",
    "    # end if\n",
    "    XYZ_tuple_row = [tuple(XYZ) for XYZ in dem_rows[i]]\n",
    "    rows.append(cq.Workplane()\n",
    "                  .polyline(XYZ_tuple_row)\n",
    "                  .wire()\n",
    "                  .extrude(1)\n",
    "                        )\n",
    "# end for\n",
    "#\n",
    "show(rows[ 0], rows[ 1], rows[ 2], rows[ 3], rows[ 4], rows[ 5],rows[ 6], rows[ 7], rows[ 8], rows[ 9],\n",
    "     rows[10], rows[11], rows[12], rows[13], rows[14], rows[15],rows[16], rows[17], rows[18], rows[19],\n",
    "     rows[20], rows[21], rows[22], rows[23], rows[24], rows[25],rows[26], rows[27], rows[28], rows[29],\n",
    "     rows[30], rows[31], rows[32], rows[33], rows[34], rows[35],rows[36], rows[37], rows[38], rows[39],\n",
    "     rows[40], rows[41], rows[42], rows[43], rows[44], rows[45],rows[46], rows[47], rows[48], rows[49],\n",
    "     rows[50], rows[51], rows[52], rows[53], rows[54], rows[55],rows[56], rows[57], rows[58], rows[59],\n",
    "     rows[60], rows[61], rows[62], rows[63], rows[64], rows[65],rows[66], rows[67], rows[68], rows[69],\n",
    "     rows[70], rows[71], rows[72], rows[73], rows[74], rows[75],rows[76], rows[77], rows[78], rows[79],\n",
    "     rows[80], rows[81], rows[82], rows[83], rows[84], rows[85],rows[86], rows[87], rows[88], rows[89],\n",
    "     rows[90], rows[91], rows[92], rows[93], rows[94], rows[95],rows[96], rows[97], rows[98], rows[99],\n",
    "     rows[100], rows[101], rows[102], rows[103], rows[104], rows[105],rows[106], rows[107], rows[108], rows[109],\n",
    "     rows[110], rows[111], rows[112], rows[113], rows[114], rows[115],rows[116], rows[117], rows[118], rows[119],\n",
    "     rows[120], rows[121], rows[122], rows[123], rows[124], rows[125],rows[126], rows[127], rows[128], rows[129],\n",
    "     rows[130], rows[131], rows[132], rows[133], rows[134], rows[135],rows[136], rows[137], rows[138], rows[139],\n",
    "     rows[140], rows[141], rows[142], rows[143], rows[144], rows[145],rows[146], rows[147], rows[148], rows[149],\n",
    "     rows[150], rows[151], rows[152], rows[153], rows[154], rows[155],rows[156], rows[157], rows[158], rows[159]\n",
    "     )\n",
    "#"
   ]
  },
  {
   "cell_type": "code",
   "execution_count": null,
   "id": "8924629f-c6f4-4e61-9822-9a70b1a1147e",
   "metadata": {},
   "outputs": [],
   "source": []
  }
 ],
 "metadata": {
  "kernelspec": {
   "display_name": "Python 3 (ipykernel)",
   "language": "python",
   "name": "python3"
  },
  "language_info": {
   "codemirror_mode": {
    "name": "ipython",
    "version": 3
   },
   "file_extension": ".py",
   "mimetype": "text/x-python",
   "name": "python",
   "nbconvert_exporter": "python",
   "pygments_lexer": "ipython3",
   "version": "3.8.12"
  }
 },
 "nbformat": 4,
 "nbformat_minor": 5
}

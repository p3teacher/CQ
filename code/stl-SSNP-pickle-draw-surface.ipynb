{
 "cells": [
  {
   "cell_type": "code",
   "execution_count": 2,
   "id": "eddf0088-da9f-410b-a58b-f7ee4b6ca837",
   "metadata": {},
   "outputs": [
    {
     "name": "stdout",
     "output_type": "stream",
     "text": [
      "當前工作目錄 ==> /home/jovyan/code\n",
      "dem_rows has 349 rows\n",
      "dem_rows has 196 column\n"
     ]
    }
   ],
   "source": [
    "# stl-SSNP-pickle-draw-surface.py\n",
    "# 2021-12-10\n",
    "#\n",
    "# pickle 是 Python 的內建模組\n",
    "# read 349x196x3_XYZ.dat file\n",
    "#\n",
    "import os\n",
    "path = os.getcwd()\n",
    "print('當前工作目錄 ==>', path)\n",
    "#\n",
    "import numpy as np\n",
    "import pickle\n",
    "#\n",
    "path_data  = './data/'\n",
    "path_3Dstl = './STL/'\n",
    "#\n",
    "with open(path_data + '349x196x3_XYZ.dat', 'rb') as in_file :\n",
    "    dem_rows = pickle.load(in_file)\n",
    "# end with    \n",
    "#\n",
    "print('dem_rows has', len(dem_rows),    'rows')\n",
    "print('dem_rows has', len(dem_rows[0]), 'column')\n",
    "#\n",
    "def wave(u, v):\n",
    "      return (u, v, 0.5 * cos(pi * u) * cos(pi * v))\n",
    "# end def\n",
    "#\n",
    "for i in range(0,349,1):\n",
    "    for j in range(0,196,1):\n",
    "        cq.Workplane().parametricSurface(wave, N = 5, stop = 3)\n",
    "    # end for\n",
    "# end for\n",
    "#\n"
   ]
  },
  {
   "cell_type": "code",
   "execution_count": null,
   "id": "8924629f-c6f4-4e61-9822-9a70b1a1147e",
   "metadata": {},
   "outputs": [],
   "source": []
  }
 ],
 "metadata": {
  "kernelspec": {
   "display_name": "Python 3 (ipykernel)",
   "language": "python",
   "name": "python3"
  },
  "language_info": {
   "codemirror_mode": {
    "name": "ipython",
    "version": 3
   },
   "file_extension": ".py",
   "mimetype": "text/x-python",
   "name": "python",
   "nbconvert_exporter": "python",
   "pygments_lexer": "ipython3",
   "version": "3.8.12"
  }
 },
 "nbformat": 4,
 "nbformat_minor": 5
}

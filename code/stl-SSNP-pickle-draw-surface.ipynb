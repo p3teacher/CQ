{
 "cells": [
  {
   "cell_type": "code",
   "execution_count": null,
   "id": "eddf0088-da9f-410b-a58b-f7ee4b6ca837",
   "metadata": {},
   "outputs": [],
   "source": [
    "# stl-SSNP-pickle-draw-surface.py\n",
    "# 2021-12-10\n",
    "#\n",
    "# pickle 是 Python 的內建模組\n",
    "# read 349x196x3_XYZ.dat file\n",
    "#\n",
    "import os\n",
    "path = os.getcwd()\n",
    "print('當前工作目錄 ==>', path)\n",
    "#\n",
    "import pickle\n",
    "import cadquery as cq\n",
    "import numpy as np\n",
    "\n",
    "from jupyter_cadquery.cadquery import show\n",
    "from jupyter_cadquery import set_defaults, set_sidecar\n",
    "#\n",
    "# Comment/Uncomment  set_defaults() function\n",
    "# if JupyterLab Theme ---> Dark  ; Uncomment it\n",
    "# if JupyterLab Theme ---> Light ; use # make next line being a comment\n",
    "set_defaults(axes=True, axes0=True, grid=True, ortho=False)\n",
    "set_defaults(theme=\"dark\") \n",
    "#\n",
    "path_data  = './data/'\n",
    "path_3Dstl = './STL/'\n",
    "#\n",
    "with open(path_data + '349x196x3_XYZ.dat', 'rb') as in_file :\n",
    "    dem_rows = pickle.load(in_file)\n",
    "# end with    \n",
    "#\n",
    "print('dem_rows has', len(dem_rows),    'rows')\n",
    "print('dem_rows has', len(dem_rows[0]), 'column')\n",
    "#\n",
    "def XYZ(i, j):\n",
    "    XYZ_list = []\n",
    "    for k in range(0,196,1) :\n",
    "        XYZ_list.append(tuple(dem_rows[int(i)][k]))\n",
    "    # end for\n",
    "    return XYZ_list\n",
    "# end def\n",
    "#\n",
    "# Create a spline surface approximating the provided function.\n",
    "# parametricSurface(func, N=20, start=0, stop=1, tol=0.01, minDeg=1, maxDeg=6, smoothing=1, 1, 1)[source]\n",
    "#\n",
    "surface = cq.Workplane(\"XY\").parametricSurface(XYZ, N=349, start=0, stop=348)\n",
    "show(surface)\n",
    "#"
   ]
  },
  {
   "cell_type": "code",
   "execution_count": null,
   "id": "8924629f-c6f4-4e61-9822-9a70b1a1147e",
   "metadata": {},
   "outputs": [],
   "source": []
  }
 ],
 "metadata": {
  "kernelspec": {
   "display_name": "Python 3 (ipykernel)",
   "language": "python",
   "name": "python3"
  },
  "language_info": {
   "codemirror_mode": {
    "name": "ipython",
    "version": 3
   },
   "file_extension": ".py",
   "mimetype": "text/x-python",
   "name": "python",
   "nbconvert_exporter": "python",
   "pygments_lexer": "ipython3",
   "version": "3.8.12"
  }
 },
 "nbformat": 4,
 "nbformat_minor": 5
}

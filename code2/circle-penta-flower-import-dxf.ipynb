{
 "cells": [
  {
   "cell_type": "code",
   "execution_count": 8,
   "id": "e3d82c0e-51e7-4948-b558-57fa4979e48b",
   "metadata": {},
   "outputs": [
    {
     "data": {
      "application/vnd.jupyter.widget-view+json": {
       "model_id": "3e43a0c1165d402a95befafe81fa81ce",
       "version_major": 2,
       "version_minor": 0
      },
      "text/plain": [
       "HBox(children=(VBox(children=(HBox(children=(Checkbox(value=False, description='Axes', indent=False, _dom_clas…"
      ]
     },
     "metadata": {},
     "output_type": "display_data"
    },
    {
     "data": {
      "text/plain": [
       "<jupyter_cadquery.cad_display.CadqueryDisplay at 0x7fb97fce1490>"
      ]
     },
     "execution_count": 8,
     "metadata": {},
     "output_type": "execute_result"
    }
   ],
   "source": [
    "# circle-penta-flower-import-dxf\n",
    "# 2022-02-11\n",
    "#\n",
    "import cadquery as cq\n",
    "#\n",
    "from jupyter_cadquery.cadquery import show, PartGroup, Part\n",
    "from jupyter_cadquery import set_defaults, set_sidecar\n",
    "#\n",
    "# Comment/Uncomment  set_defaults() function\n",
    "# if JupyterLab Theme ---> Dark  ; Uncomment it\n",
    "# if JupyterLab Theme ---> Light ; use # make next line being a comment\n",
    "set_defaults(theme=\"dark\") \n",
    "#\n",
    "result1 = (\n",
    "    cq.importers.importDXF('./dxf/circle.dxf')\n",
    "    .wires().toPending()\n",
    "    .extrude(1)\n",
    "    )\n",
    "#\n",
    "result2 = (\n",
    "    cq.importers.importDXF('./dxf/pentagon-only.dxf')\n",
    "    .wires().toPending()\n",
    "    .extrude(2)\n",
    "    )\n",
    "#\n",
    "result3 = (\n",
    "    cq.importers.importDXF('./dxf/flower.dxf')\n",
    "    .wires().toPending()\n",
    "    .extrude(3)\n",
    "    )\n",
    "#\n",
    "final = result1.union(result2).union(result3)\n",
    "show(final)"
   ]
  },
  {
   "cell_type": "code",
   "execution_count": null,
   "id": "da56f8b2-2d7a-4089-81fc-b491ed8352dc",
   "metadata": {},
   "outputs": [],
   "source": []
  }
 ],
 "metadata": {
  "kernelspec": {
   "display_name": "Python 3 (ipykernel)",
   "language": "python",
   "name": "python3"
  },
  "language_info": {
   "codemirror_mode": {
    "name": "ipython",
    "version": 3
   },
   "file_extension": ".py",
   "mimetype": "text/x-python",
   "name": "python",
   "nbconvert_exporter": "python",
   "pygments_lexer": "ipython3",
   "version": "3.8.12"
  }
 },
 "nbformat": 4,
 "nbformat_minor": 5
}

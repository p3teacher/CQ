{
 "cells": [
  {
   "cell_type": "code",
   "execution_count": 8,
   "id": "e3d82c0e-51e7-4948-b558-57fa4979e48b",
   "metadata": {},
   "outputs": [
    {
     "data": {
      "application/vnd.jupyter.widget-view+json": {
       "model_id": "bc8db897104d4071a592953b566ed0cc",
       "version_major": 2,
       "version_minor": 0
      },
      "text/plain": [
       "HBox(children=(VBox(children=(HBox(children=(Checkbox(value=False, description='Axes', indent=False, _dom_clas…"
      ]
     },
     "metadata": {},
     "output_type": "display_data"
    },
    {
     "name": "stdout",
     "output_type": "stream",
     "text": [
      "Done\n"
     ]
    }
   ],
   "source": [
    "# draw-A-dodecahedron-1B\n",
    "# 2022-03-11\n",
    "#\n",
    "import numpy as np\n",
    "import cadquery as cq\n",
    "from shapely import affinity\n",
    "from shapely.geometry  import LineString, Point\n",
    "#\n",
    "from jupyter_cadquery.cadquery import show, PartGroup, Part\n",
    "from jupyter_cadquery import set_defaults, set_sidecar\n",
    "# Comment/Uncomment  How to set_defaults() function\n",
    "# if JupyterLab Theme ---> Dark  ; Uncomment it\n",
    "# if JupyterLab Theme ---> Light ; use # make next line being a comment\n",
    "set_defaults(theme=\"dark\") \n",
    "\n",
    "def polygon(points):\n",
    "\treturn cq.Workplane().polyline(points).close()\n",
    "\t\n",
    "# fn  ---> 72 fraction ---> circle has 72 片斷\n",
    "# it means a whole circle 360° = 72 x 5°\n",
    "def circle_00(r, fn):\n",
    "\ta_step = np.radians(360 / fn)\n",
    "\tpoints = [(r*np.cos(a_step*i), r*np.sin(a_step*i)) for i in range(fn)]\n",
    "\treturn polygon(points)\n",
    "#\n",
    "def circle_xy(xy, r, fn):\n",
    "\ta_step = np.radians(360 / fn)\n",
    "\tpoints = [(xy[0]+r*np.cos(a_step*i), xy[1]+r*np.sin(a_step*i)) for i in range(fn)]\n",
    "\treturn polygon(points)\n",
    "#\n",
    "## --------------------------------------------------\n",
    "#\n",
    "cxy = (0,0)\n",
    "xlim = (-15, 45)    # 設定X軸的顯示範圍, from xmin to xmax\n",
    "ylim = (-15, 15)    # 設定Y軸的顯示範圍, from ymin to ymax\n",
    "pts = [(45,15), (-15,15), (-15,-15), (45,-15)]\n",
    "graphic_area = cq.Workplane(\"XY\").polyline(pts).close().extrude(0.2)\n",
    "#\n",
    "r1 = 5\n",
    "p1_xy = (r1*np.cos( 1*np.pi/10), r1*np.sin( 1*np.pi/10))\n",
    "p2_xy = (r1*np.cos( 5*np.pi/10), r1*np.sin( 5*np.pi/10))\n",
    "p3_xy = (r1*np.cos( 9*np.pi/10), r1*np.sin( 9*np.pi/10))\n",
    "p4_xy = (r1*np.cos(13*np.pi/10), r1*np.sin(13*np.pi/10))\n",
    "p5_xy = (r1*np.cos(17*np.pi/10), r1*np.sin(17*np.pi/10))\n",
    "#\n",
    "# distance from center to vertex\n",
    "d0 = p2_xy[1]\n",
    "d1 = abs(p4_xy[1])\n",
    "d2 = np.sqrt(d0*d0 - d1*d1)\n",
    "side_length = 2* d2\n",
    "bottom_mid  = (0, -d1)\n",
    "#\n",
    "penta_xy = [p1_xy, p2_xy, p3_xy, p4_xy, p5_xy, p1_xy]\n",
    "pts = penta_xy[0:5]\n",
    "penta      = LineString(penta_xy)\n",
    "penta_down = affinity.rotate(penta, 180, bottom_mid)\n",
    "pts = penta_down.coords[0:5]\n",
    "pentagon_down = cq.Workplane(\"XY\").polyline(pts).close().extrude(1.2)\n",
    "result_1 = pentagon_down\n",
    "#\n",
    "for i in (1,2,3,4) :\n",
    "    r_penta = affinity.rotate(penta_down, i*72, cxy)\n",
    "    pts = r_penta.coords[0:5]\n",
    "    r_pentagon = cq.Workplane(\"XY\").polyline(pts).close().extrude(1.2)\n",
    "    result_1 = result_1.union(r_pentagon) \n",
    "# end for\n",
    "#\n",
    "p2_p4_xy = [p2_xy, p4_xy]\n",
    "p3_p1_xy = [p3_xy, p1_xy]\n",
    "# \n",
    "line_p2_p4  = LineString(p2_p4_xy)\n",
    "line_p3_p1  = LineString(p3_p1_xy)\n",
    "#\n",
    "its_01 = line_p2_p4.intersection(line_p3_p1)\n",
    "its_01_xy = (its_01.x, its_01.y)\n",
    "#\n",
    "tri = LineString([p2_xy, its_01_xy, p1_xy])\n",
    "tri_xy = tri.coords\n",
    "#\n",
    "pts = tri_xy\n",
    "triangle_1 = cq.Workplane(\"XY\").polyline(pts).close().extrude(1.2)\n",
    "#\n",
    "pts_list = []\n",
    "for i in (1,2,3,4) :\n",
    "    r_tri = affinity.rotate(tri, i*72, cxy)\n",
    "    pts = r_tri.coords\n",
    "    pts_list.append(pts)\n",
    "# end for\n",
    "#\n",
    "triangle_2 = cq.Workplane(\"XY\").polyline(pts_list[0]).close().extrude(1.2)\n",
    "triangle_3 = cq.Workplane(\"XY\").polyline(pts_list[1]).close().extrude(1.2)\n",
    "triangle_4 = cq.Workplane(\"XY\").polyline(pts_list[2]).close().extrude(1.2)\n",
    "triangle_5 = cq.Workplane(\"XY\").polyline(pts_list[3]).close().extrude(1.2)\n",
    "#\n",
    "show(graphic_area, result_1)\n",
    "# show(graphic_area, result_1, triangle_1, triangle_2, triangle_3, triangle_4, triangle_5)\n",
    "#\n",
    "print('Done')"
   ]
  },
  {
   "cell_type": "code",
   "execution_count": null,
   "id": "da56f8b2-2d7a-4089-81fc-b491ed8352dc",
   "metadata": {},
   "outputs": [],
   "source": []
  }
 ],
 "metadata": {
  "kernelspec": {
   "display_name": "Python 3 (ipykernel)",
   "language": "python",
   "name": "python3"
  },
  "language_info": {
   "codemirror_mode": {
    "name": "ipython",
    "version": 3
   },
   "file_extension": ".py",
   "mimetype": "text/x-python",
   "name": "python",
   "nbconvert_exporter": "python",
   "pygments_lexer": "ipython3",
   "version": "3.8.12"
  }
 },
 "nbformat": 4,
 "nbformat_minor": 5
}

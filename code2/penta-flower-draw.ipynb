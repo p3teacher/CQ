{
 "cells": [
  {
   "cell_type": "code",
   "execution_count": 4,
   "id": "e3d82c0e-51e7-4948-b558-57fa4979e48b",
   "metadata": {},
   "outputs": [
    {
     "data": {
      "application/vnd.jupyter.widget-view+json": {
       "model_id": "6f5b7bd6d6f447edb2420ceef6a14500",
       "version_major": 2,
       "version_minor": 0
      },
      "text/plain": [
       "HBox(children=(VBox(children=(HBox(children=(Checkbox(value=False, description='Axes', indent=False, _dom_clas…"
      ]
     },
     "metadata": {},
     "output_type": "display_data"
    },
    {
     "name": "stdout",
     "output_type": "stream",
     "text": [
      "Done\n"
     ]
    }
   ],
   "source": [
    "# penta-flower-draw\n",
    "# 2022-02-11\n",
    "#\n",
    "import numpy as np\n",
    "import cadquery as cq\n",
    "from cadquery import exporters\n",
    "from shapely.geometry  import LineString, Point\n",
    "#\n",
    "from jupyter_cadquery.cadquery import show, PartGroup, Part\n",
    "from jupyter_cadquery import set_defaults, set_sidecar\n",
    "# Comment/Uncomment  set_defaults() function\n",
    "# if JupyterLab Theme ---> Dark  ; Uncomment it\n",
    "# if JupyterLab Theme ---> Light ; use # make next line being a comment\n",
    "set_defaults(theme=\"dark\") \n",
    "\n",
    "def polygon(points):\n",
    "\treturn cq.Workplane().polyline(points).close()\n",
    "\t\n",
    "def circle_00(r, fn):\n",
    "\ta_step = np.radians(360 / fn)\n",
    "\tpoints = [(r*np.cos(a_step*i), r*np.sin(a_step*i)) for i in range(fn)]\n",
    "\treturn polygon(points)\n",
    "#\n",
    "def circle_xy(xy, r, fn):\n",
    "\ta_step = np.radians(360 / fn)\n",
    "\tpoints = [(xy[0]+r*np.cos(a_step*i), xy[1]+r*np.sin(a_step*i)) for i in range(fn)]\n",
    "\treturn polygon(points)\n",
    "#\n",
    "r1 = 6\n",
    "#\n",
    "pentagon_p1_xy = (r1*np.cos( 1*np.pi/10), r1*np.sin( 1*np.pi/10))\n",
    "pentagon_p2_xy = (r1*np.cos( 5*np.pi/10), r1*np.sin( 5*np.pi/10))\n",
    "pentagon_p3_xy = (r1*np.cos( 9*np.pi/10), r1*np.sin( 9*np.pi/10))\n",
    "pentagon_p4_xy = (r1*np.cos(13*np.pi/10), r1*np.sin(13*np.pi/10))\n",
    "pentagon_p5_xy = (r1*np.cos(17*np.pi/10), r1*np.sin(17*np.pi/10))\n",
    "#\n",
    "p2_p4_xy = [pentagon_p2_xy, pentagon_p4_xy]\n",
    "p2_p5_xy = [pentagon_p2_xy, pentagon_p5_xy]\n",
    "p3_p1_xy = [pentagon_p3_xy, pentagon_p1_xy]\n",
    "p3_p5_xy = [pentagon_p3_xy, pentagon_p5_xy]\n",
    "# \n",
    "line_p2_p4  = LineString(p2_p4_xy)\n",
    "line_p2_p5  = LineString(p2_p5_xy)\n",
    "line_p3_p1  = LineString(p3_p1_xy)\n",
    "line_p3_p5  = LineString(p3_p5_xy)\n",
    "#\n",
    "its_01 = line_p2_p4.intersection(line_p3_p1)\n",
    "its_02 = line_p2_p4.intersection(line_p3_p5)\n",
    "its_01_xy = (its_01.x, its_01.y)\n",
    "its_02_xy = (its_02.x, its_02.y)\n",
    "#\n",
    "r2 = its_01.distance(Point(0,0))\n",
    "plate_0 = circle_00(r1, 72).extrude(1)\n",
    "plate_1 = circle_xy(its_01_xy, r2, 72).extrude(3)\n",
    "plate_2 = circle_xy(its_02_xy, r2, 72).extrude(3)\n",
    "#\n",
    "pts = [pentagon_p1_xy, pentagon_p2_xy, pentagon_p3_xy, pentagon_p4_xy, pentagon_p5_xy]\n",
    "pentagon = cq.Workplane(\"XY\").polyline(pts).close().extrude(2)\n",
    "#\n",
    "petal  = plate_1.intersect(plate_2)\n",
    "petals = cq.Workplane()\n",
    "for i in (0,1,2,3,4) :\n",
    "    petals.add(petal.rotate((0,0,0),(0,0,1), i*72))\n",
    "# end for\n",
    "#\n",
    "result = pentagon.union(plate_0) \n",
    "final = petals.union(result)\n",
    "show(final)\n",
    "#\n",
    "print('Done')"
   ]
  },
  {
   "cell_type": "code",
   "execution_count": null,
   "id": "da56f8b2-2d7a-4089-81fc-b491ed8352dc",
   "metadata": {},
   "outputs": [],
   "source": []
  }
 ],
 "metadata": {
  "kernelspec": {
   "display_name": "Python 3 (ipykernel)",
   "language": "python",
   "name": "python3"
  },
  "language_info": {
   "codemirror_mode": {
    "name": "ipython",
    "version": 3
   },
   "file_extension": ".py",
   "mimetype": "text/x-python",
   "name": "python",
   "nbconvert_exporter": "python",
   "pygments_lexer": "ipython3",
   "version": "3.8.12"
  }
 },
 "nbformat": 4,
 "nbformat_minor": 5
}
